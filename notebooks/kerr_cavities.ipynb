{
 "cells": [
  {
   "cell_type": "code",
   "execution_count": 1,
   "id": "773aa5ad",
   "metadata": {},
   "outputs": [
    {
     "ename": "ArgumentError",
     "evalue": "ArgumentError: Package IJulia [7073ff75-c697-5162-941a-fcdaad2a7d2a] is required but does not seem to be installed:\n - Run `Pkg.instantiate()` to install all recorded dependencies.\n",
     "output_type": "error",
     "traceback": [
      "ArgumentError: Package IJulia [7073ff75-c697-5162-941a-fcdaad2a7d2a] is required but does not seem to be installed:\n",
      " - Run `Pkg.instantiate()` to install all recorded dependencies.\n",
      "\n",
      "\n",
      "Stacktrace:\n",
      "  [1] _require(pkg::Base.PkgId, env::String)\n",
      "    @ Base ./loading.jl:2515\n",
      "  [2] __require_prelocked(uuidkey::Base.PkgId, env::String)\n",
      "    @ Base ./loading.jl:2388\n",
      "  [3] #invoke_in_world#3\n",
      "    @ ./essentials.jl:1089 [inlined]\n",
      "  [4] invoke_in_world\n",
      "    @ ./essentials.jl:1086 [inlined]\n",
      "  [5] _require_prelocked(uuidkey::Base.PkgId, env::String)\n",
      "    @ Base ./loading.jl:2375\n",
      "  [6] macro expansion\n",
      "    @ ./loading.jl:2314 [inlined]\n",
      "  [7] macro expansion\n",
      "    @ ./lock.jl:273 [inlined]\n",
      "  [8] __require(into::Module, mod::Symbol)\n",
      "    @ Base ./loading.jl:2271\n",
      "  [9] #invoke_in_world#3\n",
      "    @ ./essentials.jl:1089 [inlined]\n",
      " [10] invoke_in_world\n",
      "    @ ./essentials.jl:1086 [inlined]\n",
      " [11] require(into::Module, mod::Symbol)\n",
      "    @ Base ./loading.jl:2260\n",
      " [12] eval\n",
      "    @ ./boot.jl:430 [inlined]\n",
      " [13] include_string(mapexpr::typeof(REPL.softscope), mod::Module, code::String, filename::String)\n",
      "    @ Base ./loading.jl:2734\n",
      " [14] #invokelatest#2\n",
      "    @ ./essentials.jl:1055 [inlined]\n",
      " [15] invokelatest\n",
      "    @ ./essentials.jl:1052 [inlined]\n",
      " [16] (::VSCodeServer.var\"#217#218\"{VSCodeServer.NotebookRunCellArguments, String})()\n",
      "    @ VSCodeServer ~/.vscode/extensions/julialang.language-julia-1.149.2/scripts/packages/VSCodeServer/src/serve_notebook.jl:24\n",
      " [17] withpath(f::VSCodeServer.var\"#217#218\"{VSCodeServer.NotebookRunCellArguments, String}, path::String)\n",
      "    @ VSCodeServer ~/.vscode/extensions/julialang.language-julia-1.149.2/scripts/packages/VSCodeServer/src/repl.jl:276\n",
      " [18] notebook_runcell_request(conn::VSCodeServer.JSONRPC.JSONRPCEndpoint{Base.PipeEndpoint, Base.PipeEndpoint, VSCodeServer.JSON.Serializations.StandardSerialization}, params::VSCodeServer.NotebookRunCellArguments, token::VSCodeServer.CancellationTokens.CancellationToken)\n",
      "    @ VSCodeServer ~/.vscode/extensions/julialang.language-julia-1.149.2/scripts/packages/VSCodeServer/src/serve_notebook.jl:13\n",
      " [19] dispatch_msg(x::VSCodeServer.JSONRPC.JSONRPCEndpoint{Base.PipeEndpoint, Base.PipeEndpoint, VSCodeServer.JSON.Serializations.StandardSerialization}, dispatcher::VSCodeServer.JSONRPC.MsgDispatcher, msg::VSCodeServer.JSONRPC.Request)\n",
      "    @ VSCodeServer.JSONRPC ~/.vscode/extensions/julialang.language-julia-1.149.2/scripts/packages/JSONRPC/src/typed.jl:68\n",
      " [20] serve_notebook(pipename::String, debugger_pipename::String, outputchannel_logger::Base.CoreLogging.SimpleLogger; error_handler::var\"#5#10\"{String})\n",
      "    @ VSCodeServer ~/.vscode/extensions/julialang.language-julia-1.149.2/scripts/packages/VSCodeServer/src/serve_notebook.jl:147\n",
      " [21] top-level scope\n",
      "    @ ~/.vscode/extensions/julialang.language-julia-1.149.2/scripts/notebook/notebook.jl:35"
     ]
    }
   ],
   "source": [
    "using DrWatson\n",
    "using IJulia\n",
    "\n",
    "@quickactivate\n"
   ]
  },
  {
   "cell_type": "code",
   "execution_count": 2,
   "id": "4037ba2c",
   "metadata": {},
   "outputs": [
    {
     "data": {
      "text/plain": [
       "\"# so we can keep adding packages to the venv\\nusing Pkg\\nPkg.add(\\\"FLoops\\\")\""
      ]
     },
     "metadata": {},
     "output_type": "display_data"
    }
   ],
   "source": [
    "\"\"\"# so we can keep adding packages to the venv\n",
    "using Pkg\n",
    "Pkg.add(\"FLoops\")\"\"\""
   ]
  },
  {
   "cell_type": "code",
   "execution_count": 3,
   "id": "59140e34",
   "metadata": {},
   "outputs": [
    {
     "data": {
      "text/plain": [
       "\"# optimization tools\\nusing Profile, ProfileSVG\\nusing JET\\nusing Cthulhu\""
      ]
     },
     "metadata": {},
     "output_type": "display_data"
    }
   ],
   "source": [
    "using HDF5\n",
    "using Printf\n",
    "using CairoMakie\n",
    "using SparseArrays\n",
    "using LinearAlgebra\n",
    "using Statistics\n",
    "using Distributed\n",
    "using FLoops\n",
    "\"\"\"# optimization tools\n",
    "using Profile, ProfileSVG\n",
    "using JET\n",
    "using Cthulhu\"\"\""
   ]
  },
  {
   "cell_type": "code",
   "execution_count": 4,
   "id": "4ad84d99",
   "metadata": {},
   "outputs": [
    {
     "data": {
      "text/plain": [
       "\"# this is for compiling an itensor image so when we start it does not take ages to \\n# comile the pakages. This only needs to be run onces per kernel or when you update the packages\\n# to create the sys_itensor.so image\\n\\nusing PackageCompiler\\n\\nITensors.compile()\\n\\n# To load the image in a jupyter notebook:\\n# using IJulia\\n# installkernel(\\\"julia_ITensors\\\",\\\"--sysimage=~/.julia/sysimages/sys_itensors.so\\\")\\n# To load the image in vscode just add this to the julia.additionalArgs setting in Settings.json\\n# \\\"--sysimage ~/.julia/sysimages/sys_itensors.so\\\"\\n\""
      ]
     },
     "metadata": {},
     "output_type": "display_data"
    }
   ],
   "source": [
    "using QuantumToolbox\n",
    "using ITensors, ITensorMPS\n",
    "using Strided\n",
    "\n",
    "\"\"\"\n",
    "# this is for compiling an itensor image so when we start it does not take ages to \n",
    "# comile the pakages. This only needs to be run onces per kernel or when you update the packages\n",
    "# to create the sys_itensor.so image\n",
    "\n",
    "using PackageCompiler\n",
    "\n",
    "ITensors.compile()\n",
    "\n",
    "# To load the image in a jupyter notebook:\n",
    "# using IJulia\n",
    "# installkernel(\"julia_ITensors\",\"--sysimage=~/.julia/sysimages/sys_itensors.so\")\n",
    "# To load the image in vscode just add this to the julia.additionalArgs setting in Settings.json\n",
    "# \"--sysimage ~/.julia/sysimages/sys_itensors.so\"\n",
    "\"\"\""
   ]
  },
  {
   "cell_type": "markdown",
   "id": "39ed84e7",
   "metadata": {},
   "source": [
    "# MPS Functions"
   ]
  },
  {
   "cell_type": "code",
   "execution_count": 19,
   "id": "35869174",
   "metadata": {},
   "outputs": [
    {
     "data": {
      "text/plain": [
       "apply_jump_operator (generic function with 1 method)"
      ]
     },
     "metadata": {},
     "output_type": "display_data"
    }
   ],
   "source": [
    "function ITensors.op(::OpName\"Kerr\", ::SiteType\"Boson\", d::Int)\n",
    "    # Define a custom operator for the Kerr  using Quantum toolbox\n",
    "    a = destroy(d) \n",
    "    kerr_mat = a'*a'*a*a\n",
    "    \n",
    "  return to_dense(kerr_mat.data)\n",
    "end\n",
    "\n",
    "function entangement_S(ψ, b)\n",
    "    # b: index where we do the bipartition\n",
    "    psi = orthogonalize(ψ, b)\n",
    "    # do the SVM\n",
    "    U,S,V = svd(psi[b], (linkinds(psi, b-1)..., siteinds(psi, b)...))\n",
    "    SvN = 0.0\n",
    "    # Geth the schmidt coefficients\n",
    "    for n=1:dim(S, 1)\n",
    "        p = S[n,n]^2\n",
    "        SvN -= p * log(p)\n",
    "    end\n",
    "    return SvN\n",
    "end\n",
    "\n",
    "\n",
    "function ask_where(intervals)\n",
    "    # decide where to project the staet when there is a jump, each element in intervals is associated to\n",
    "    # a jump operator\n",
    "    r2 = rand()\n",
    "    dummy = 0\n",
    "    j = 1\n",
    "    found_site = -1\n",
    "    while dummy == 0\n",
    "        if r2<sum(intervals[1:j])\n",
    "            dummy = 1\n",
    "            found_site = j\n",
    "        else \n",
    "            j = j+1\n",
    "        end\n",
    "    end\n",
    "    return found_site\n",
    "end\n",
    "\n",
    "function build_TEBD(L, Ω, K ,J, Fd, Δτ, Nh, gammas::Vector{Float64})\n",
    "    #  build site indices\n",
    "    s = siteinds(\"Boson\", L; dim=Nh, conserve_qns=false)\n",
    "    # build the time evol gates for TEBD\n",
    "    gates = ITensor[]\n",
    "    # for the first site \n",
    "    s1 = s[1]\n",
    "    s2 = s[2]\n",
    "    h0 = -Ω*op(\"n\",s1)*op(\"Id\",s2) + 0.5*K*op(\"Kerr\",s1)*op(\"Id\",s2) + Fd*(op(\"adag\",s1) + op(\"a\",s1))*op(\"Id\",s2)\n",
    "    \n",
    "    heff = - 0.5*im*gammas[1]*op(\"Id\",s1)*op(\"n\",s2)\n",
    "    hj = h0 +  heff\n",
    "    Gj = exp(-im * Δτ/2 * hj)\n",
    "    push!(gates, Gj)\n",
    "\n",
    "    for j in 2:(L)\n",
    "        s1 = s[j]\n",
    "        s2 = s[j-1] \n",
    "\n",
    "        h0 = -Ω*op(\"n\",s1)*op(\"Id\",s2) + 0.5*K*op(\"Kerr\",s1)*op(\"Id\",s2) - J*(op(\"adag\",s1)*op(\"a\",s2) + op(\"adag\",s2)*op(\"a\",s1))\n",
    "\n",
    "        heff = - 0.5*im * gammas[j]*op(\"n\",s1)*op(\"Id\",s2)\n",
    "        hj = h0 +  heff\n",
    "        # troterized gate\n",
    "        Gj = exp(-im * Δτ/2 * hj)\n",
    "        push!(gates, Gj)\n",
    "    end\n",
    "\n",
    "    # The reverse gates for second order accuracy\n",
    "    append!(gates, reverse(gates))\n",
    "\n",
    "    return s, gates\n",
    "\n",
    "end\n",
    "\n",
    "function compute_trajectory_tdvp(s::Vector{Index{Int64}}, gates, L::Int64, J::Float64,\n",
    "                             Δτ::Float64, ttotal::Float64, Nh::Int64, gammas::Vector{Float64}, cutoff::Float64)\n",
    "    # bettwe to put it in a function to avoid the global julia scope\n",
    "    \"\"\" \n",
    "    s = indices for truncation\n",
    "    Gj = TEBD circuit for one step\n",
    "    L = chain size\n",
    "    J = Hopping\n",
    "    Δτ = timestep\n",
    "    ttotal = final time\n",
    "    cutoff = truncation cutoff\n",
    "    Nh = local hilbert space dimension\n",
    "    gamma = dissipation\n",
    "    \"\"\"\n",
    "\n",
    "    n_tsteps = round(Int64, ttotal/Δτ)+1\n",
    "    occupations = Vector{Vector{Float64}}(undef, n_tsteps)\n",
    "    corr_matrices = Vector{Matrix{ComplexF64}}(undef, n_tsteps)\n",
    "    entropies = zeros(n_tsteps)\n",
    "    bond_dimensions = zeros(Int, n_tsteps)\n",
    "    # for the wigner distributions\n",
    "    a_operators = Vector{Vector{ComplexF64}}(undef, n_tsteps)\n",
    "\n",
    "    # put a particle in the first site\n",
    "    state_list = [\"0\" for n in 1:L]\n",
    "    state_list[1] = \"0\"\n",
    "    psi = MPS(s, state_list)\n",
    "    psi_cand = copy(psi) # candidate for new state}\n",
    "\n",
    "    dummy_counter = 1\n",
    "\n",
    "    for t in 0.0:Δτ:ttotal\n",
    "        # keep track of the occupations at each time step\n",
    "\n",
    "        occ = ITensorMPS.expect(psi,\"N\")        \n",
    "        # entanglement entropy between two equal sized parts of the chain\n",
    "        Svn = entangement_S(psi, round(Int64, L/2))\n",
    "        occupations[dummy_counter] = occ\n",
    "        corr_matrices[dummy_counter] = correlation_matrix(psi,\"adag\",\"a\")\n",
    "        entropies[dummy_counter] = Svn\n",
    "        bond_dimensions[dummy_counter] = ITensorMPS.maxlinkdim(psi)\n",
    "        a_operators[dummy_counter] = ITensorMPS.expect(psi,\"a\") \n",
    "\n",
    "        t≈ttotal && break\n",
    "\n",
    "        # metropolis step tdvp(H,tmax,psi0,time_step=0.01, cutoff=cutoff, normalize=true, reverse_step=false);\n",
    "        psi_cand = tdvp(gates,Δτ,psi,time_step=Δτ, nsweeps=1 ,cutoff=cutoff, normalize=false, reverse_step=false)\n",
    "        norm = inner(psi_cand',psi_cand)\n",
    "        proba_act = real(1 - norm)\n",
    "        r1 = rand()\n",
    "\n",
    "        if r1 > proba_act\n",
    "            # here no jump so we accept the state\n",
    "            psi = psi_cand/norm\n",
    "        else\n",
    "            # jump, so choose which state we project to\n",
    "            δp_list = [gammas[i]*ITensorMPS.expect(psi,\"N\",sites=i) for i in 1:L]  \n",
    "            normalize!(δp_list)\n",
    "            jump_site = ask_where(δp_list)\n",
    "            jump_op = sqrt(gammas[jump_site])*op(\"a\",s[jump_site]);\n",
    "            psi = apply(jump_op , psi)\n",
    "            normalize!(psi)\n",
    "        end\n",
    "\n",
    "        dummy_counter+=1\n",
    "    end\n",
    "\n",
    "    return occupations, entropies, bond_dimensions, corr_matrices, a_operators\n",
    "end\n",
    "\n",
    "function build_tdvp(L, Ω, K ,J, Fd, Nh, gammas::Vector{Float64})\n",
    "\n",
    "    s = siteinds(\"Boson\", L; dim=N, conserve_qns=false)\n",
    "    # build the time evol gates for TEBD\n",
    "    gates = ITensor[]\n",
    "\n",
    "    h0 = OpSum()\n",
    "    heff = OpSum()\n",
    "\n",
    "    h0 += -Ω, \"n\", 1 \n",
    "    h0 += 0.5*K, \"Kerr\", 1 \n",
    "    h0 += Fd, \"adag\", 1 \n",
    "    h0 += Fd, \"a\", 1 \n",
    "    heff += - 0.5*im*gammas[1], \"n\", 1\n",
    "    for j in 2:L\n",
    "        # Bare Hamiltonian\n",
    "        h0 += -Ω, \"n\", j \n",
    "        h0 += 0.5*K, \"Kerr\", j \n",
    "        h0 += Fd, \"adag\", j \n",
    "        h0 += Fd,\"a\", j \n",
    "        h0 += -J , \"adag\", j, \"a\", j-1\n",
    "        h0 += -J, \"adag\", j-1 , \"a\", j\n",
    "        # effective Hamiltonian\n",
    "        heff += - 0.5*im*gammas[1], \"n\", j\n",
    "\n",
    "    end\n",
    "\n",
    "    hj = h0 +  heff\n",
    "        # The reverse gates for second order accuracy\n",
    "    return s, MPO(hj,s)\n",
    "end\n",
    "\n",
    "function compute_trajectory_tebd(s::Vector{Index{Int64}}, gates::Vector{ITensor}, L::Int64, J::Float64,\n",
    "                             Δτ::Float64, ttotal::Float64, Nh::Int64, gammas::Vector{Float64}, cutoff::Float64)\n",
    "    # bettwe to put it in a function to avoid the global julia scope\n",
    "    \"\"\" \n",
    "    s = indices for truncation\n",
    "    Gj = TEBD circuit for one step\n",
    "    L = chain size\n",
    "    J = Hopping\n",
    "    Δτ = timestep\n",
    "    ttotal = final time\n",
    "    cutoff = truncation cutoff\n",
    "    Nh = local hilbert space dimension\n",
    "    gamma = dissipation\n",
    "    \"\"\"\n",
    "    # pre allocate memory\n",
    "    n_tsteps = round(Int32, ttotal/Δτ)+1\n",
    "    occupations = Vector{Vector{Float64}}(undef, n_tsteps)\n",
    "    corr_matrices = Vector{Matrix{ComplexF64}}(undef, n_tsteps)\n",
    "    entropies = zeros(n_tsteps)\n",
    "    bond_dimensions = zeros(Int, n_tsteps)\n",
    "    # for the wigner distributions\n",
    "    a_operators = Vector{Vector{ComplexF64}}(undef, n_tsteps)\n",
    "\n",
    "    # put a particle in the first site\n",
    "    state_list = [\"0\" for n in 1:L]\n",
    "    state_list[1] = \"0\"\n",
    "    psi = MPS(s, state_list)\n",
    "    psi_cand = copy(psi) # candidate for new state}\n",
    "    norm = 0.0\n",
    "    proba_act = 0.0\n",
    "    dummy_counter = 1\n",
    "    # throw all random nums at thestart for efficieny\n",
    "    r1 = rand(length( 0.0:Δτ:ttotal))\n",
    "\n",
    "    @floop begin\n",
    "    # list prealocalted variables for floops\n",
    "    occupations\n",
    "    corr_matrices\n",
    "    entropies \n",
    "    bond_dimensions\n",
    "    a_operators\n",
    "\n",
    "     @inbounds for t in 0.0:Δτ:ttotal\n",
    "        # save observables of interest\n",
    "        occupations[dummy_counter] = ITensorMPS.expect(psi,\"N\")    \n",
    "        corr_matrices[dummy_counter] = correlation_matrix(psi,\"adag\",\"a\")\n",
    "        entropies[dummy_counter] = entangement_S(psi, round(Int64, L/2))\n",
    "        bond_dimensions[dummy_counter] = ITensorMPS.maxlinkdim(psi)\n",
    "        a_operators[dummy_counter] = ITensorMPS.expect(psi,\"a\") \n",
    "\n",
    "        # t≈ttotal && break\n",
    "\n",
    "        # metropolis step\n",
    "        psi_cand = apply(gates, psi; cutoff) # candidate for new state}\n",
    "        norm = inner(psi_cand',psi_cand)\n",
    "        proba_act = real(1 - norm)\n",
    "\n",
    "        if r1[dummy_counter] > proba_act\n",
    "            # here no jump so we accept the state\n",
    "            psi = psi_cand/norm\n",
    "        else\n",
    "            # jump, so choose which state we project to\n",
    "            psi = apply_jump_operator(s, gammas, psi, L)\n",
    "        end\n",
    "\n",
    "        dummy_counter+=1\n",
    "    end\n",
    "\n",
    "    end\n",
    "\n",
    "    return occupations, entropies, bond_dimensions, corr_matrices, a_operators\n",
    "end\n",
    "\n",
    "\n",
    "function apply_jump_operator(s_indices, dissipations, psi_mps, chain_l)\n",
    "    # jump, so choose which state we project to\n",
    "        δp_list = [dissipations[i]*ITensorMPS.expect(psi_mps,\"N\",sites=i) for i in 1:chain_l]  \n",
    "        normalize!(δp_list)\n",
    "        jump_site = ask_where(δp_list)\n",
    "        jump_op = sqrt(dissipations[jump_site])*op(\"a\",s_indices[jump_site]);\n",
    "        psi_mps = apply(jump_op , psi_mps)\n",
    "        \n",
    "        return normalize!(psi_mps)\n",
    "\n",
    "end\n"
   ]
  },
  {
   "cell_type": "markdown",
   "id": "9c6695a1",
   "metadata": {},
   "source": [
    "# Main"
   ]
  },
  {
   "cell_type": "code",
   "execution_count": 20,
   "id": "d07c222b",
   "metadata": {},
   "outputs": [
    {
     "data": {
      "text/plain": [
       "1"
      ]
     },
     "metadata": {},
     "output_type": "display_data"
    }
   ],
   "source": [
    "N = 3 # local hilbert space dimension\n",
    "L = 10 # size of the chain\n",
    "ω = 2.5 # frequency of the harmonic oscillator\n",
    "J = 2.0 # hopping\n",
    "γ = 1.0 # damping rate\n",
    "γ_list = γ.*ones(L)\n",
    "U = 0.1 # Kerr non-linearity\n",
    "F = 1.5 # Pump strength\n",
    "maxt = 15.0 # maximum time\n",
    "cutoff_exponent = -20 # -18 -20\n",
    "cutoff = 10.0^cutoff_exponent\n",
    "N_trajectories = 200\n",
    "Delta_t = 0.2# 0.06 0.1 0.2\n",
    "time_list = 0.0:Delta_t:maxt\n",
    "γ_list = γ.*ones(L)\n",
    "evol_type = \"TEBD\" # TDVP\n",
    "Strided.disable_threads()\n",
    "Strided.get_num_threads()"
   ]
  },
  {
   "cell_type": "code",
   "execution_count": 21,
   "id": "611f7726",
   "metadata": {},
   "outputs": [
    {
     "name": "stdout",
     "output_type": "stream",
     "text": [
      "4\n"
     ]
    }
   ],
   "source": [
    "println(Threads.nthreads())"
   ]
  },
  {
   "cell_type": "code",
   "execution_count": 24,
   "id": "4562e428",
   "metadata": {},
   "outputs": [
    {
     "name": "stdout",
     "output_type": "stream",
     "text": [
      "  8.891221 seconds (5.37 M allocations: 12.723 GiB, 13.89% gc time)\n",
      "Vector{ComplexF64}[[0.0 + 0.0im, 0.0 + 0.0im, 0.0 + 0.0im, 0.0 + 0.0im, 0.0 + 0.0im, 0.0 + 0.0im, 0.0 + 0.0im, 0.0 + 0.0im, 0.0 + 0.0im, 0.0 + 0.0im], [0.067765508925707 - 0.2776609228845619im, 0.04714552607079706 + 0.01776014526130982im, -0.0047654314216193944 + 0.009059714981924804im, -0.0016237388850038103 - 0.0011304863251043453im, 0.0002556243242841301 - 0.000284411861920189im, 4.844051280980567e-5 + 5.5824152218212975e-5im, -1.1864377168120988e-5 + 7.95670511442322e-6im, -1.242498231962462e-6 - 2.4658170638703055e-6im, 5.018722775660324e-7 - 1.7954119490898374e-7im, 2.2105206495223293e-8 + 1.0451412419742901e-7im], [0.22958871353804142 - 0.45471256506978824im, 0.13932765360343793 + 0.1052536105652827im, -0.03719818409172744 + 0.036322633381944705im, -0.007983604036084273 - 0.010791597926110836im, 0.002841052420139667 - 0.0015722654714420657im, 0.0002771239159942101 + 0.0007009523202259211im, -0.00016482380621715017 + 4.190592459448954e-5im, -4.584329909252462e-6 - 3.730573445963721e-5im, 8.161134253040819e-6 + 2.1650399944493468e-8im, -2.587039670344143e-7 + 1.8131433536708675e-6im], [0.39869298476613996 - 0.4909940037524224im, 0.18655969776878384 + 0.252154547015394im, -0.11907110019418098 + 0.05779457783807029im, -0.013343060503758932 - 0.04307458078419394im, 0.01342672213368352 - 0.0021833177230630232im, 0.00010495544510396737 + 0.003787950689873965im, -0.0009930472761000976 - 0.00010238463691187769im, 5.791617208045425e-5 - 0.0002456921801406669im, 5.777802743541598e-5 + 2.157364485496296e-5im, -7.451577344958339e-6 + 1.3630719772087277e-5im], [0.513476150043327 - 0.43535728911000837im, 0.15061285326750157 + 0.39066108883823936im, -0.23170775384065423 + 0.03110714281175904im, 0.00410891131245483 - 0.10218861239971391im, 0.03735501616387463 + 0.007181982990394714im, -0.004086837045371539 + 0.011972157521203756im, -0.0034738192490621467 - 0.00173190653695011im, 0.0006269968492097341 - 0.0009299727632014295im, 0.00023172332242534188 + 0.00020301171169545654im, -6.648917948981702e-5 + 5.649658662924232e-5im], [0.5647109437799624 - 0.3643296261571038im, 0.0661038110487808 + 0.46850313585521985im, -0.32399353043363077 - 0.05416559669374884im, 0.06539360697616019 - 0.16651054171802765im, 0.06924915923243465 + 0.04160959036431617im, -0.02022151308105259 + 0.024562509268677514im, -0.007664237826800768 - 0.008328537400512847im, 0.0030545120910473907 - 0.0021369359849862176im, 0.0005344430224732708 + 0.001016789607799807im, -0.0003463032016770897 + 0.00011941317044217183im], [0.5752208949803704 - 0.31744308464782195im, -0.01013026270197665 + 0.48622076331551056im, -0.3589464208010631 - 0.163203704483129im, 0.16494526386116223 - 0.2001262664901121im, 0.08878820821849091 + 0.10821859364392154im, -0.05597861490600639 + 0.03241854695890287im, -0.009818604809685015 - 0.024651187194939465im, 0.009641450931027069 - 0.002369744393220708im, 0.0003884470999975119 + 0.00339958456069876im, -0.0012290330508592012 - 5.466336337284017e-5im], [0.39797965785669626 - 0.19050662000972188im, -0.0007297571473493403 + 0.4007249629626709im, -0.32862003611688095 - 0.14163880232502513im, 0.15296800668140836 - 0.19215994293829047im, 0.08720466307058325 + 0.10340852782208843im, -0.05433906145722524 + 0.03224817390557325im, -0.00985828642024682 - 0.024147794270344893im, 0.009498193551106673 - 0.002404955405288462im, 0.0004040375981593321 + 0.0033613440273700455im, -0.0012187594339877867 - 4.838127308901472e-5im], [0.0 + 0.0im, 0.1208380692871012 + 0.30618608995744634im, -0.3434608709904031 - 0.0874501391501455im, 0.1430044619775502 - 0.20849723503142437im, 0.09325011221745198 + 0.10372659479816781im, -0.05533091074984399 + 0.03375303554301513im, -0.010105236205579392 - 0.024606145337413364im, 0.009647398526245193 - 0.0024095229455308557im, 0.0003878105337433836 + 0.00340096665605731im, -0.0012276337798438383 - 5.7973127665107146e-5im], [-0.029229144495846116 - 0.272486466743754im, 0.08348805150665992 + 0.17124174750976162im, -0.27509149245118864 - 0.12132887657483814im, 0.21511188492793967 - 0.1871772057541372im, 0.08156755314752145 + 0.17772365331928494im, -0.10581535069492574 + 0.0232253992706776im, -0.002044612930082774 - 0.05154958316490195im, 0.021812900106982263 + 0.002571584160204984im, -0.002116880263205505 + 0.008182777768075373im, -0.0031270263310165915 - 0.0014155352895904058im], [0.10572648855424448 - 0.49004192410566194im, 0.18487634587227297 + 0.12841228560369433im, -0.19438604354359162 - 0.08019524096049498im, 0.23242041112309397 - 0.1269383099623926im, 0.0327027743805341 + 0.2273624343465017im, -0.15225869808483525 - 0.016283983685825447im, 0.025453488138157423 - 0.08112064860349902im, 0.03675057017130895 + 0.01893784756488218im, -0.010280185234471863 + 0.01450518589244619im, -0.005698867084752507 - 0.005905748011287664im], [0.30306767822721553 - 0.554204800877532im, 0.2778858871358512 + 0.22133723416843448im, -0.1884331297624202 + 0.013082878085040293im, 0.18386849285950896 - 0.08508071071579369im, -0.02412479289826857 + 0.22536217156007873im, -0.16939195979490096 - 0.07454980470923478im, 0.0721477307899038 - 0.09695780839520392im, 0.04552177812284325 + 0.04980363555791418im, -0.02684723169869468 + 0.01818334905597511im, -0.006506912673462723 - 0.015849264872264283im], [0.45868794747704494 - 0.4950146034743758im, 0.2625548029542252 + 0.3654344089257284im, -0.27318952255471046 + 0.06707646449469748im, 0.11503109647801044 - 0.11065450841355118im, -0.044061373270402465 + 0.18067837568157938im, -0.1474633675604163 - 0.1210848875363926im, 0.12210808129287964 - 0.08547234966858572im, 0.036887667859592604 + 0.08913039587612513im, -0.05031842180578823 + 0.012507863051577016im, -0.00039675895921794264 - 0.031669088331523515im], [0.5379607673341829 - 0.4023588172552704im, 0.16005573043185486 + 0.4624843321301069im, -0.3776534522012576 + 0.023721653381725407im, 0.09628420591258183 - 0.19174020095577418im, -0.006755269724296487 + 0.1403923836665585im, -0.10697820403746335 - 0.12655291112429382im, 0.15073564852845864 - 0.05042885676708373im, 0.006692178432510614 + 0.12111010580160338im, -0.07275801120724373 - 0.0070247428807260395im, 0.01858043275277284 - 0.04895516332626878im], [0.5615575374968036 - 0.33580564723234774im, 0.0502994579804745 + 0.4862126294290179im, -0.42451026686519394 - 0.08756946789500751im, 0.15587628231243453 - 0.2634825204764391im, 0.05907752181393482 + 0.1519494970621183im, -0.0874811803283136 - 0.09038344294540077im, 0.14402324069074074 - 0.01612804145083883im, -0.034590132759821174 + 0.12926561314025636im, -0.08314490449933613 - 0.03669159956167286im, 0.05229581930792425 - 0.057821200913893554im], [0.5620541640375727 - 0.3026462297405801im, -0.016752752885172445 + 0.4696126452703396im, -0.400698254617742 - 0.19537091673942106im, 0.25715182153507404 - 0.2711746377275962im, 0.097774768593093 + 0.22033671172633118im, -0.11524934836009833 - 0.04638902010166501im, 0.11400344732474375 - 0.011492658527875049im, -0.06508875834316796 + 0.11012222718669995im, -0.07609303541411648 - 0.06338721455191541im, 0.09363876831638336 - 0.0473209026845073im], [0.5573571265985291 - 0.2890181803058915im, -0.04267616510202546 + 0.4505757717411667im, -0.34503124953243913 - 0.25671908985324493im, 0.34104135667294594 - 0.21501705909739774im, 0.07382575198067784 + 0.30541703079992877im, -0.17966731697646468 - 0.03755141009448525im, 0.09418868989582235 - 0.04586451341133431im, -0.06621348503342935 + 0.07967819986323076im, -0.05944814742712628 - 0.07233993940421428im, 0.1267485787631568 - 0.014004109439862153im], [0.5512646846145811 - 0.28517941791842744im, -0.04962483925170325 + 0.44334800490399146im, -0.2981981660156356 - 0.2745527021454812im, 0.37589539844883496 - 0.13529689054009356im, -0.0029469422493953947 + 0.3579831799065893im, -0.24053494850057291 - 0.08223984881874265im, 0.11550310585072325 - 0.09734491321778634im, -0.03843536050316824 + 0.06475446615561407im, -0.05236098368777915 - 0.060020063455958346im, 0.1354481138176636 + 0.03136701268759073im], [0.5437946707801841 - 0.2884258524140645im, -0.05272925146839607 + 0.4436684352045829im, -0.27575854978077924 - 0.273747798886469im, 0.3692580025383385 - 0.07280859724468766im, -0.09140426045189566 + 0.3562670551169693im, -0.25947174236555975 - 0.16067932429314666im, 0.18083699654979118 - 0.12581335684879677im, -0.004245324517739868 + 0.0833494896821672im, -0.07165585682424236 - 0.04141767463957175im, 0.11615750604247485 + 0.06653797756495872im], [0.5371303909015707 - 0.29731587603131937im, -0.05404242653641836 + 0.44393224435093964im, -0.27028442262097563 - 0.2737755991416939im, 0.3497993718755224 - 0.04280516298171892im, -0.15269056584524396 + 0.3149514993263316im, -0.22871239018922512 - 0.2322335643689275im, 0.2601005726022436 - 0.1026203976390987im, 0.00693689682666358 + 0.1294676832424583im, -0.1157148375422101 - 0.0422135246225186im, 0.08503928505088672 + 0.07169374728540578im], [0.380217028223145 - 0.19862983291471725im, -0.021506297407332963 + 0.38342305275219696im, -0.27123969954287724 - 0.24595171541137845im, 0.3488496622712793 - 0.05477918622669286im, -0.14805352750369127 + 0.32439025145645256im, -0.2371799977613237 - 0.2330064267468569im, 0.2622749573354632 - 0.10779853008378916im, 0.00943838875384581 + 0.1315517906196696im, -0.11700787411827035 - 0.04103627789888506im, 0.08479404815824874 + 0.07039643128561968im], [0.3672304286464304 - 0.30340623368035485im, -0.009910065105882966 + 0.34975419616793im, -0.2548653478861956 - 0.23186544778893228im, 0.3271334267197546 - 0.04756619159201315im, -0.16750379169216661 + 0.27390648945585927im, -0.1836372682757955 - 0.2691464921985864im, 0.3167780848112437 - 0.03992454750764108im, -0.015851573944665256 + 0.18123032383039683im, -0.1639659862489808 - 0.07725270856321767im, 0.07070445703432247 + 0.04342824635096909im], [0.4109787006934354 - 0.3515485091898532im, 0.024224435419397727 + 0.34454147690212067im, -0.24122766321245517 - 0.20821199278548103im, 0.312106469410249 - 0.04481945859835078im, -0.15878950175234885 + 0.23579778350981037im, -0.13703165596683445 - 0.2679444891540093im, 0.3212977429524428 + 0.04206078535939604im, -0.0689664514332615 + 0.2054839164387397im, -0.183353413455311 - 0.14138319414877953im, 0.09566081256690546 + 0.008001108657387216im], [0.3291808010945005 - 0.33578963900139097im, 0.13930767144494458 + 0.3594991108876719im, -0.272014447851307 - 0.172446645715696im, 0.3089498309106108 - 0.0497003698042812im, -0.16440487808956974 + 0.2317834492508662im, -0.13146911939528685 - 0.27287302708559263im, 0.32446776780653847 + 0.0468572168419281im, -0.07265363469004281 + 0.20695512021380402im, -0.18417558984970558 - 0.14382081898786517im, 0.09768885306170472 + 0.008467205699454035im], [0.37734120882506184 - 0.3962116111369099im, 0.12917898151125057 + 0.3935802715519402im, -0.3034748094268574 - 0.13209945673738027im, 0.2873896552946053 - 0.06818827696626781im, -0.13709873865061928 + 0.2088399957929918im, -0.10661395319754091 - 0.2520895971917166im, 0.28496261240363896 + 0.10868172910822052im, -0.13039103432119853 + 0.19339631049459768im, -0.16186442445298896 - 0.2080270210784867im, 0.15994901686760343 + 0.0005641772915066154im], [0.44426889821747606 - 0.3844537569870643im, 0.09420326064432911 + 0.42389386603843976im, -0.34766001995951856 - 0.13608490334188497im, 0.2805183710036235 - 0.09777704218874418im, -0.10222174932765528 + 0.20339526996387713im, -0.10398451116913866 - 0.23155222292028194im, 0.23042180014250466 + 0.12845983427784238im, -0.1667255442399073 + 0.15151801581314026im, -0.11210487187101721 - 0.24097655328376547im, 0.2281689882633794 + 0.042903146650461854im], [0.489310240500779 - 0.34364357684185126im, 0.03602129864305064 + 0.42948588688032513im, -0.3656885345424782 - 0.18482425310661843im, 0.30243421884586885 - 0.11796926290859623im, -0.07037883067402828 + 0.2197340999511383im, -0.11308184344218537 - 0.21936181396321708im, 0.19106341034193286 + 0.11304477939491489im, -0.17220248214042622 + 0.10163085277181765im, -0.06710627862350685 - 0.23449241625855696im, 0.2623928069523344 + 0.12826808408720827im], [0.5126376139120995 - 0.3299209989600703im, 0.0025018009136016325 + 0.4142134996528485im, -0.33624234826487337 - 0.23659524761146045im, 0.3366207795613083 - 0.10127020835343578im, -0.06163438798932291 + 0.25353281587541016im, -0.12686010773670348 - 0.216972930185366im, 0.18175653331382624 + 0.08519974875594523im, -0.15193646719977846 + 0.061330718147227944im, -0.05247782719563943 - 0.20802676280777882im, 0.2399780646265846 + 0.22159256542997574im], [0.5314509859668214 - 0.3271781870443401im, 0.007597968819179311 + 0.4164047138149392im, -0.2974682016001717 - 0.24778115227797592im, 0.3435773623903334 - 0.05717533727199319im, -0.08545045840629595 + 0.2790674027263398im, -0.1394688885048995 - 0.22512586304481347im, 0.19898648400161018 + 0.0685788447805309im, -0.11710590010386743 + 0.039650441954154646im, -0.06855983576755212 - 0.19205831685449506im, 0.17069250809433414 + 0.2825197272115737im], [0.5435698667323609 - 0.31305735604718427im, 0.008183515258321295 + 0.43992854353086236im, -0.29544434499416483 - 0.2380872650781892im, 0.3183457342039707 - 0.03167789267297651im, -0.11982720031407423 + 0.27290128783102685im, -0.14445819230818285 - 0.2395537958056993im, 0.22562382603749753 + 0.07735951509951905im, -0.07895222152913936 + 0.03904033332405566im, -0.09320635929221974 - 0.20402456456902707im, 0.08901072756640138 + 0.29058002393784604im], [0.542885134262914 - 0.29988878310332995im, -0.009830002704650218 + 0.454568936037056im, -0.31407167160403804 - 0.2485749379923472im, 0.3002641919074175 - 0.04330045338261947im, -0.13278682555718985 + 0.24413759566736284im, -0.14187038833432278 - 0.2513671150907084im, 0.2393810494258049 + 0.1102029053947835im, -0.048073591184396205 + 0.057305936667722726im, -0.10134526573700355 - 0.23749114528555468im, 0.031143151947515383 + 0.25530254656639356im], [0.5360046442358587 - 0.29843714468190047im, -0.024085526801577082 + 0.4528535175060923im, -0.3162658059153048 - 0.2747516347599503im, 0.31483359867478905 - 0.061789532829372024im, -0.11724542997407861 + 0.222489460835723im, -0.13996044802739324 - 0.25716718619707923im, 0.2249022836343149 + 0.14970718369915528im, -0.03321135230994584 + 0.08663084180744066im, -0.08348493730110762 - 0.27092600276525086im, 0.01389164701599301 + 0.2062754617570812im], [0.5304961249473074 - 0.30355295712389696im, -0.02533666724318487 + 0.4485553052071573im, -0.3019400955706466 - 0.28958523009178083im, 0.34479198677094214 - 0.054171362699721386im, -0.0925582071975401 + 0.2247090811742486im, -0.14550615750496523 - 0.2645780227252394im, 0.1852612395938179 + 0.1714364682514976im, -0.03657914079128173 + 0.1147315902203873im, -0.049382622272937354 - 0.28545228969676073im, 0.028945381804274216 + 0.17233919125427513im], [0.5279554363268828 - 0.30920874563448536im, -0.02174300899176616 + 0.4482572795691431im, -0.29308133853568585 - 0.28742654853221183im, 0.3588646157010599 - 0.021704706254925522im, -0.07951111940264075 + 0.2433382991926553im, -0.1527116235811043 - 0.2840980537563668im, 0.14254910739270785 + 0.1615486547533551im, -0.051305911149324104 + 0.13155639409817968im, -0.01779732660006029 - 0.27663353214385517im, 0.053464483940580516 + 0.1654144827172354im], [0.5276829062214016 - 0.31380885749799436im, -0.01853120835046457 + 0.44870142340452895im, -0.2994344421504066 - 0.283458559520227im, 0.3452134410389958 + 0.01076645697394983im, -0.08193406293723529 + 0.2619700388683177im, -0.1461015131514884 - 0.31376831379927816im, 0.12164814929806464 + 0.12917197494819982im, -0.06651203688634477 + 0.13588296523175708im, -0.0030266435642861064 - 0.254450833217054im, 0.0669445154069729 + 0.17806285277627706im], [0.5293835059479174 - 0.31627609746315677im, -0.01316025204219458 + 0.44743842709393883im, -0.3117529141003436 - 0.29136492686193777im, 0.3157250204978669 + 0.022694232603238818im, -0.09030948995789048 + 0.27301616818181595im, -0.11897795244004347 - 0.3366439034880174im, 0.1300060510818626 + 0.09903407674221311im, -0.07596473730946095 + 0.13407319510893423im, -0.007115313041728742 - 0.23463496848021195im, 0.06276473154533806 + 0.1932221674312254im], [0.5316904906166822 - 0.31455949043352166im, -0.0028594529116332036 + 0.44797296908910805im, -0.31543471595772704 - 0.30990942065410837im, 0.2902520688635273 + 0.012427142852555396im, -0.0973287970040248 + 0.2799439116657819im, -0.08374943461645444 - 0.3376304613342165im, 0.15322578560015968 + 0.09048899544239877im, -0.08108461446927182 + 0.1324085233850344im, -0.02097998066023381 - 0.22829525892792193im, 0.04851416621164844 + 0.19744371806676192im], [0.5306966525513217 - 0.3087753961857928im, 0.008796370627778926 + 0.45534429959058825im, -0.30522668112481605 - 0.3271709663367664im, 0.2797488669032467 - 0.007931639655827683im, -0.10421050106648663 + 0.2870090199297981im, -0.06057752518213049 - 0.31842339803899994im, 0.16935631437611937 + 0.1031458597051992im, -0.08615863615770052 + 0.1316951099003283im, -0.03163524710131182 - 0.23628241029843308im, 0.037458225035428866 + 0.1889118405910917im], [0.37844295459145155 - 0.2035048843887759im, 0.03133439164398001 + 0.39139474274075026im, -0.30052447703624013 - 0.304974331218959im, 0.2739821386723198 - 0.010930280644586916im, -0.10087848144413428 + 0.2869654459074154im, -0.06133582246140954 - 0.3203866115675575im, 0.16835027371839265 + 0.10343258439826811im, -0.08574161173862381 + 0.13178887991503857im, -0.031862269980503406 - 0.23712508363589302im, 0.03875177476934986 + 0.19123478562714147im], [0.2532199806790278 - 0.29780429440036815im, 0.021377865019161536 + 0.32791075881972886im, -0.26246760976004246 - 0.29334407507720506im, 0.2534267620076497 - 0.0037252239378018034im, -0.10119236878821805 + 0.27834991511386403im, -0.050498143145949984 - 0.31453482438704644im, 0.16454493299809078 + 0.10516443542114849im, -0.0890327798581755 + 0.12814285789680818im, -0.029049209010442344 - 0.23865533506228473im, 0.03745827285305324 + 0.194364085692088im], [0.3117758464791586 - 0.4282970883358417im, 0.1029533986873037 + 0.32314586376176124im, -0.22733331499647275 - 0.2682520035460529im, 0.23928402840626203 - 0.020640004441034022im, -0.10645576100527096 + 0.2778917432873941im, -0.05078738432272544 - 0.28579779397354244im, 0.16067141946518057 + 0.121610332477835im, -0.09157212814433213 + 0.12404223683776688im, -0.0280103447533309 - 0.25159120397881257im, 0.03617283820308775 + 0.18166616470376504im], [0.4066717112174564 - 0.44860853002027506im, 0.16160644353313894 + 0.38707062516953783im, -0.2195982969094581 - 0.21547920319396544im, 0.22265942461129337 - 0.036422520193994556im, -0.11061365317800946 + 0.2670084687098669im, -0.0651174795002057 - 0.2694449922572404im, 0.14407748658388078 + 0.126964570522663im, -0.09158624185604058 + 0.11767897363801634im, -0.015657473146541024 - 0.2586023985259817im, 0.04455262442191185 + 0.17515563965188688im], [0.47241418933474394 - 0.40696991918017267im, 0.140000439975036 + 0.4698966071968207im, -0.2558288112442785 - 0.17748271789448908im, 0.20779882760593996 - 0.06214751682991151im, -0.102889551376249 + 0.24773452461350104im, -0.07636142235646119 - 0.26718275301984207im, 0.12869334956829956 + 0.11865752387664578im, -0.08713225656672934 + 0.11173308832060752im, -0.0010270082630372565 - 0.2532033274536434im, 0.05315089811052023 + 0.17948353083161414im], [0.49635051818959186 - 0.37841928406077174im, 0.0750206891169083 + 0.5104950672751403im, -0.3043994773070865 - 0.18591227448890824im, 0.2118047030525143 - 0.09570081073888906im, -0.07836892499839118 + 0.23496099720933003im, -0.07636714829708433 - 0.2667516973979238im, 0.1220769797299011 + 0.1053470706070418im, -0.08033480105396637 + 0.10909735009666834im, 0.005606610275185447 - 0.23840295707426332im, 0.05282346034231612 + 0.1898069196770595im], [0.5055038169014238 - 0.3731532277098457im, 0.028531821218030124 + 0.5135569616144491im, -0.33145581967314663 - 0.22266260972139926im, 0.2378919846065969 - 0.11971972894772495im, -0.04826699084800938 + 0.24337605879542148im, -0.072882429784338 - 0.2571054903436422im, 0.1214149789870698 + 0.09505000847368134im, -0.07462871304414949 + 0.10897789273550178im, 0.0009225552696284241 - 0.22407408252566116im, 0.04190950422339362 + 0.19642546038289038im], [0.5172707151586019 - 0.36923291410047787im, 0.0070462830764980834 + 0.5063755876506166im, -0.3379840404095988 - 0.26014143099948905im, 0.27250905809567094 - 0.12614773783470082im, -0.030351627951900627 + 0.27214491463697277im, -0.07944652697530437 - 0.24036339985927896im, 0.12076839271172499 + 0.08761317469012929im, -0.06997117413427367 + 0.10844284140137535im, -0.00917850099135726 - 0.21824305374592246im, 0.02697617762656694 + 0.1925624487983773im], [0.5304774410058418 - 0.3612849867601552im, -0.0021147691487061198 + 0.4982450499153033im, -0.33148507766234686 - 0.29105007830474044im, 0.3058455669623445 - 0.11883251588123143im, -0.034073456764231014 + 0.3087525755710977im, -0.10153038779866605 - 0.22936115266485077im, 0.119408707251304 + 0.07774065412903351im, -0.06295807888969032 + 0.1074065315804584im, -0.015597039048751676 - 0.2202090568111085im, 0.017134042997117054 + 0.17907448463995357im], [0.5408103678599099 - 0.34980648915172713im, -0.0030934461714540178 + 0.4956560467494971im, -0.3147828250592723 - 0.3086874398478132im, 0.3317341114037988 - 0.10004302860270219im, -0.05833568355181478 + 0.3391881672859183im, -0.13169791738429398 - 0.23691426501349508im, 0.12305883037256864 + 0.0627346707208202im, -0.05175092405228351 + 0.11050307921202558im, -0.014753712495154314 - 0.222121452992047im, 0.016931265045606186 + 0.1629814912170013im], [0.5438968104980327 - 0.33626286543820416im, -0.005826733662736443 + 0.5011511894170685im, -0.3005940063693761 - 0.3107441854973954im, 0.34242703657820894 - 0.0763942276272637im, -0.09344678730840188 + 0.35197273728840145im, -0.1538165286031226 - 0.26563790941384124im, 0.13821039891775957 + 0.04745827000810822im, -0.04044579772090616 + 0.12352629354157571im, -0.012050055443583126 - 0.2173650528537382im, 0.023779917545949228 + 0.1509966846898834im], [0.5386195055116241 - 0.3269173535932692im, -0.016544639176556776 + 0.5049592047155365im, -0.29678542863858953 - 0.3092047080577208im, 0.34051463707753266 - 0.059682109829785564im, -0.1236065384853666 + 0.344928275395136im, -0.15453335690744294 - 0.30378308170304685im, 0.16411547426824052 + 0.041799465805200484im, -0.03830729031886041 + 0.14680586204129834im, -0.016515677511835775 - 0.2078624923253115im, 0.03219618743169488 + 0.1441452998118433im], [0.5297178093893687 - 0.32665915291518155im, -0.02749331931677776 + 0.4999218821095398im, -0.29599323179391424 - 0.312609503113877im, 0.33699526528097484 - 0.05253528313321118im, -0.1380932827746905 + 0.3291708599801571im, -0.1340885354391626 - 0.33311093897697963im, 0.19118358679093517 + 0.05172794548294308im, -0.052630897903844315 + 0.17180826788918568im, -0.031347911237477905 - 0.20331498222771802im, 0.04010575176072996 + 0.13875809115592372im], [0.5238025387125694 - 0.3333125227665501im, -0.029614082494734618 + 0.4900481343769179im, -0.29073723948225083 - 0.31699683127700834im, 0.33651069792854854 - 0.04788880795336903im, -0.13996498990761455 + 0.31855955775038824im, -0.10575691980125221 - 0.3424232098990758im, 0.2081758129989188 + 0.07358272704901968im, -0.08134900484742177 + 0.18597315075200485im, -0.049254142671409554 - 0.21254750428442498im, 0.05096189899110107 + 0.13238098331270542im], [0.523762277170743 - 0.3405368434479528im, -0.023137810470391592 + 0.4836686663829601im, -0.2829203865151243 - 0.31608876234410477im, 0.3347099636987127 - 0.041363961249214425im, -0.14050581930674919 + 0.3165008157805077im, -0.08500978065759167 - 0.33482257281077427im, 0.21058391151062925 + 0.09679894239995601im, -0.1131142492705134 + 0.18206106059704874im, -0.05768944725422572 - 0.23433353673618476im, 0.06942668509956461 + 0.12875924263281352im], [0.5275157543510239 - 0.34367586084767715im, -0.015249372794606744 + 0.48457551739224847im, -0.2785879018155539 - 0.30987512893323393im, 0.32779527334855363 - 0.03664573442824149im, -0.14620290345139414 + 0.3153637487868288im, -0.07764293135008836 - 0.32263086184305106im, 0.20320541698925174 + 0.11208088124283193im, -0.13527620571800414 + 0.16350195356816144im, -0.05006886362612072 - 0.2569012229874102im, 0.09418868935769573 + 0.1363351508361587im], [0.5311693503737859 - 0.34257919323455616im, -0.012211208032621216 + 0.4898516779739396im, -0.27993148036748194 - 0.30368124801329105im, 0.31914930302820566 - 0.038970421970959894im, -0.15285110840839022 + 0.308182199174411im, -0.0780530279500361 - 0.3148472063488667im, 0.19475058776583865 + 0.11786754399858933im, -0.1426185057449671 + 0.1408350498800803im, -0.03231742632419458 - 0.2677294842243313im, 0.11541385365923036 + 0.16033211643426779im], [0.532596248496663 - 0.33988756666118947im, -0.014596866459430063 + 0.49442703908183433im, -0.283622341099148 - 0.3014658642682077im, 0.3157851359347306 - 0.04721491604243636im, -0.15311590137473652 + 0.29703183616361756im, -0.07873002425277936 - 0.3110765217755543im, 0.19024499982341 + 0.11899759960602392im, -0.13886128954173751 + 0.12286478933505174im, -0.01774316185898916 - 0.26455521817076166im, 0.12086596974026824 + 0.19578803768339384im], [0.5321313593682049 - 0.33808424024112554im, -0.019229241610547745 + 0.49582101169649806im, -0.2856999580102668 - 0.30220058931353905im, 0.3203129538285811 - 0.05447171680544633im, -0.14611699076049178 + 0.28927844895836347im, -0.07829847715877719 - 0.306697857232631im, 0.1889283884271702 + 0.12059377455824792im, -0.1305791617932434 + 0.1114591845573183im, -0.015057194128490005 - 0.25661787033574285im, 0.1056100924193566 + 0.22906340297720282im], [0.5312680524841957 - 0.3381436399875633im, -0.023177859548045403 + 0.4945153067917157im, -0.28581196525478725 - 0.30272222594054704im, 0.32849211682390056 - 0.055201627066485695im, -0.13795215740338598 + 0.2888587535508406im, -0.08050156505279953 - 0.3002474887806376im, 0.18755583575072013 + 0.12411840176685249im, -0.12075197043846113 + 0.10406378521866116im, -0.021330389291254033 - 0.25540495729477397im, 0.0764133432108095 + 0.24692953823590666im], [0.5314120048586427 - 0.33945783878987623im, -0.02526247423368555 + 0.4919187544361309im, -0.286185705529955 - 0.3018841839749662im, 0.3340974542068063 - 0.0500907990431177im, -0.13466295486331706 + 0.2924763549369709im, -0.0879583558347237 - 0.2954560600072958im, 0.18433894742411328 + 0.12815550837328127im, -0.10831483514577861 + 0.09974868729128929im, -0.02588661622097488 - 0.26415376699351606im, 0.04703757452465717 + 0.24560066554617394im], [0.5331716545543307 - 0.34037723518193563im, -0.02545402774591047 + 0.48915296633815414im, -0.2881325774691506 - 0.3010627973277087im, 0.33490273950824057 - 0.04399610995506485im, -0.13605467629974352 + 0.2938925711907621im, -0.09813146026283216 - 0.29697495226708276im, 0.17954308941134903 + 0.1314340533510565im, -0.09322465510667491 + 0.1014549070604229im, -0.021079655995467125 - 0.27583735231079826im, 0.028388914408658664 + 0.23200254272301543im], [0.5360432172767159 - 0.3393577270009592im, -0.024335496171659518 + 0.48709322851635606im, -0.29078312029124553 - 0.30163872768993466im, 0.3334279136675979 - 0.040192983380454524im, -0.1368083805583641 + 0.29088027739219163im, -0.10541340909444012 - 0.3054110392271194im, 0.17348223500050378 + 0.13371305710790024im, -0.08013395724481108 + 0.11174582543041685im, -0.009065726348055211 - 0.2810759788885158im, 0.0223401966243251 + 0.2167586229558622im], [0.5386507704716514 - 0.3361253370485568im, -0.023015385822364346 + 0.4861908033952289im, -0.29290091939561164 - 0.30344697712561725im, 0.3325592735144588 - 0.03771819297037132im, -0.13279832130918118 + 0.2870532275160077im, -0.10592907770896666 - 0.31693933557480264im, 0.16598997095307447 + 0.13429290616017814im, -0.07540628469381629 + 0.12766583427059927im, 0.001705684780175368 - 0.277125551083613im, 0.023637236866661925 + 0.20630563960771242im], [0.4585343139021039 - 0.3153312052027546im, -0.013133399544911887 + 0.3631373465710004im, -0.24984807082349755 - 0.26213819046140735im, 0.30438059937807455 - 0.033081089280566016im, -0.12713743611713718 + 0.2748918076349066im, -0.1028101064024219 - 0.3117878425142704im, 0.1616515698960115 + 0.1359182290417106im, -0.07272141991646998 + 0.12441504357448897im, 0.004113190735612795 - 0.27546257270301044im, 0.01909805420909749 + 0.20582762591391196im], [0.47988220391810843 - 0.33977974344230005im, 0.01888867356768407 + 0.3977462917895im, -0.24684202784208756 - 0.2464527965337151im, 0.2892596679718747 - 0.030394007197757516im, -0.11367627954331964 + 0.2693816938608834im, -0.09693113067193719 - 0.31804520271735676im, 0.15208984794070637 + 0.1317809502462752im, -0.077475708701097 + 0.13947056100138439im, 0.00769757535925481 - 0.2669052014802344im, 0.0220338309293404 + 0.1986484556204097im], [0.4971940640274044 - 0.3356531048611489im, 0.02333516937852498 + 0.427317935712008im, -0.2598140291512007 - 0.23729252519902394im, 0.2726688598624907 - 0.03221855338373568im, -0.09890414159642501 + 0.2692260703526319im, -0.08722111994569295 - 0.3175972630084408im, 0.14382165650356207 + 0.12319548848928477im, -0.08748825018061705 + 0.14609244171275876im, 0.005046426373126516 - 0.26092688115563345im, 0.025012866945660652 + 0.19351440263718428im], [0.5085655137309446 - 0.33786518549820393im, 0.018480665882871138 + 0.4477508943860381im, -0.2768936332757363 - 0.24032084243299687im, 0.2584024901262238 - 0.04113385562926408im, -0.08669080016757791 + 0.27423080992605636im, -0.07837951072784276 - 0.3099388604479589im, 0.13924735505580418 + 0.11197421047961148im, -0.09498381435940388 + 0.14412601105635547im, 0.0015933302647696311 - 0.2592900053994597im, 0.02889101718755064 + 0.18913665031036536im], [0.5192321511440688 - 0.3435074450007777im, 0.01694206521759157 + 0.46438960449309186im, -0.29191534723088663 - 0.25235401913090616im, 0.2512796068947178 - 0.056940662023730604im, -0.07878500663097521 + 0.28245364747256235im, -0.07450974208034125 - 0.2975337232997281im, 0.13870386738398138 + 0.10110846534779555im, -0.095704073416174 + 0.1388610752984903im, 0.0006041613909937071 - 0.2586330059080316im, 0.03404427570362762 + 0.18647305924562427im], [0.5283537295713023 - 0.33881060656173534im, 0.013925405000915327 + 0.48241829592724395im, -0.30317175669898155 - 0.2695834077164426im, 0.25548829028457753 - 0.07625621171200937im, -0.07504807906631158 + 0.2922757675478605im, -0.07751824404908865 - 0.28466674580360435im, 0.1405531458249421 + 0.09246336697576295im, -0.0911083119701538 + 0.13585586847673217im, 0.0005507090167260013 - 0.25543408301578946im, 0.03886529248678228 + 0.18631604288584852im], [0.5295237906659442 - 0.3292452970381249im, 0.00101281900344566 + 0.494644163739981im, -0.3074899753770112 - 0.2918168301898061im, 0.27318496601274717 - 0.09270330199667622im, -0.07462941685799528 + 0.303744615810649im, -0.08648543415435814 - 0.27543831100789373im, 0.14297309324043692 + 0.08586949284314702im, -0.08559247050713628 + 0.13676786014332457im, -0.0020333110084822035 - 0.24992405504319684im, 0.04147183783515387 + 0.18736952021267603im], [0.5236523173403231 - 0.3275781130707859im, -0.01215932248108258 + 0.495078412624533im, -0.2979570094263188 - 0.31327901718190665im, 0.30138881774680326 - 0.09616156434467889im, -0.07888372167726726 + 0.3186024482197578im, -0.0993655454410941 - 0.27245739079346687im, 0.14550266468849515 + 0.07970135367198057im, -0.08197395325888097 + 0.13940335666126394im, -0.008172503645171206 - 0.24532596058385667im, 0.04198550893514254 + 0.18722425199896742im], [0.4489706454576068 - 0.3135784367760603im, -0.0012935041656160278 + 0.3708902954023972im, -0.24890579073578142 - 0.25067259943433007im, 0.2576203943110162 - 0.09598110151023534im, -0.06265672050517217 + 0.30339318319882735im, -0.10091601236364722 - 0.25909630674149775im, 0.1379630763616977 + 0.07619130948079286im, -0.07991884125768597 + 0.13460891445363637im, -0.0051075188099612995 - 0.24235706894362982im, 0.039990660677875434 + 0.1875088268649036im], [0.46525839549970016 - 0.3391976052609702im, 0.021784002180101403 + 0.4057205702518771im, -0.2318484674945183 - 0.2436087295167215im, 0.26186483999441723 - 0.08596817286327335im, -0.06684952393281246 + 0.30777308319487257im, -0.11458931117028374 - 0.25803754678332874im, 0.14015423096572777 + 0.06369774989837765im, -0.07267443114357121 + 0.13671228968915772im, -0.013020268572844319 - 0.23837067708608856im, 0.03861951100187381 + 0.1844866412660804im], [0.4790530823800758 - 0.34422791264626307im, 0.022289688516624773 + 0.43368420624156107im, -0.23205466659898533 - 0.23129862226671766im, 0.25685673463606556 - 0.07337729850738348im, -0.07587593320735293 + 0.30539840113772254im, -0.12285520976705057 - 0.263452348169973im, 0.14755566515978544 + 0.052643520157213644im, -0.06397371568773222 + 0.1411496578021207im, -0.021200494538382648 - 0.2358396833200312im, 0.03872021701873221 + 0.17836410667115155im], [0.4471801664508381 - 0.3025289749314977im, 0.032835375967809596 + 0.3733319589263488im, -0.22403683652194148 - 0.18769922202695322im, 0.23769003296852212 - 0.05959076866806579im, -0.09127075440641688 + 0.29459537729850305im, -0.11322589739983668 - 0.27238716220097087im, 0.14917972456480433 + 0.06114208895901425im, -0.06792672433827422 + 0.1367027653526618im, -0.01756279962587049 - 0.23580260267026762im, 0.037653513187693124 + 0.180203942094558im], [0.45804611696245456 - 0.3259447750394137im, 0.019462827481988867 + 0.4197876879635502im, -0.2513706603814024 - 0.1943994444036305im, 0.2194085487158402 - 0.07332411235544066im, -0.0901250994779452 + 0.2752118440406888im, -0.10707058219806186 - 0.27806779213904925im, 0.16066201755136744 + 0.060380389110640746im, -0.06250530787540791 + 0.14561565940266666im, -0.02524281838112608 - 0.23434297947521315im, 0.03945648352426711 + 0.17335180780853288im], [0.46647103201569806 - 0.33893126416909275im, -0.0013196668728238392 + 0.42894773356120275im, -0.2652428593988878 - 0.22640946309177837im, 0.22673311385137027 - 0.09214886850754338im, -0.07529779198661848 + 0.2620294876898692im, -0.09531220624998968 - 0.2727815294823765im, 0.16601882459170308 + 0.0688801601283955im, -0.06397009680572101 + 0.15524736735243996im, -0.03363914191929894 - 0.2346956509529718im, 0.04424140340075515 + 0.16569480917225773im]]\n"
     ]
    }
   ],
   "source": [
    "let\n",
    "    s_indices, gates = build_TEBD(L, ω, U, J, F, Delta_t, N, γ_list)\n",
    "    @time occupations, Svns, bond_dim, correlation_matrix, a_operators = compute_trajectory_tebd(s_indices, gates, L, J,    Delta_t, maxt, N, γ_list,cutoff)\n",
    "    println(a_operators)\n",
    "end\n"
   ]
  },
  {
   "cell_type": "code",
   "execution_count": null,
   "id": "68b2bf22",
   "metadata": {},
   "outputs": [
    {
     "name": "stdout",
     "output_type": "stream",
     "text": [
      "Doing TEBD...\n"
     ]
    }
   ],
   "source": [
    "occupation_ensemble = Vector{Matrix{Float64}}(undef, N_trajectories)\n",
    "correlation_ensemble = Vector{Vector{Matrix{ComplexF64}}}(undef, N_trajectories)\n",
    "entropy_ensemble = zeros(N_trajectories, length(time_list))\n",
    "b_dims_ensemble = zeros(N_trajectories, length(time_list))\n",
    "a_ensemble = Vector{Vector{Vector{ComplexF64}}}(undef, N_trajectories)\n",
    "println(\"Doing TEBD...\")\n",
    "s_indices, gates = build_TEBD(L, ω, U, J, F, Delta_t, N, γ_list)\n",
    "timings = zeros(N_trajectories)\n",
    "\n",
    "# use @elapsed to save the result of the time measurement macro\n",
    "\n",
    "Threads.@threads for traj in 1:N_trajectories\n",
    "    timings[traj] = @elapsed occupations, Svns, bond_dim, correlation_matrix, a_operators = compute_trajectory_tebd(s_indices, gates, L, J,\n",
    "                                                            Delta_t, maxt, N, γ_list, cutoff);\n",
    "    occupations = reduce(hcat, occupations);\n",
    "    occupation_ensemble[traj] = occupations\n",
    "    entropy_ensemble[traj, 1:end] = Svns\n",
    "    b_dims_ensemble[traj, 1:end] = bond_dim\n",
    "    correlation_ensemble[traj] = correlation_matrix\n",
    "    a_ensemble[traj] = a_operators\n",
    "    \n",
    "end\n",
    "    \n",
    "\"\"\"else\n",
    "    println(\"Doing TDVP...\")\n",
    "    s_indices, gates = build_tdvp(L, ω, U, J, F, N, γ_list)\n",
    "    Threads.@threads for traj in 1:N_trajectories\n",
    "    occupations, Svns, bond_dim, correlation_matrix, a_operators = compute_trajectory_tdvp(s_indices, gates, L, J,Delta_t, maxt, N, γ_list,cutoff)\n",
    "\n",
    "    occupations = reduce(hcat, occupations);\n",
    "    occupation_ensemble[traj] = occupations\n",
    "    entropy_ensemble[traj, 1:end] = Svns\n",
    "    b_dims_ensemble[traj, 1:end] = bond_dim\n",
    "    correlation_ensemble[traj] = correlation_matrix\n",
    "    a_ensemble[traj] = a_operators\n",
    "    end\"\"\"\n",
    "    \n",
    "println(timings)"
   ]
  },
  {
   "cell_type": "code",
   "execution_count": null,
   "id": "446815c9",
   "metadata": {},
   "outputs": [],
   "source": [
    "\n",
    "mean_traj = mean(occupation_ensemble)\n",
    "mean_entropy = mean(entropy_ensemble,dims=1)[1,1:end]\n",
    "mean_bond = mean(b_dims_ensemble,dims=1)[1,1:end]\n",
    "tot_oc = sum(mean_traj, dims=1)[1:end]\n",
    "mean_corr = mean(correlation_ensemble)\n",
    "mean_a = mean(a_ensemble);\n"
   ]
  },
  {
   "cell_type": "markdown",
   "id": "48a86636",
   "metadata": {},
   "source": [
    "## Save data"
   ]
  },
  {
   "cell_type": "code",
   "execution_count": null,
   "id": "ec5efc76",
   "metadata": {},
   "outputs": [],
   "source": [
    "str_file_name = @sprintf(\"../data/sims/benchmark/%s_N%i_L%i_om%.2f_J%.2f_gamma%.2f_kerr%.2f_drive%.2f_maxt%.2f_deltat%.2f_traj%i_cutexp%i.h5\", evol_type,N,L,ω,J,γ,U,F,maxt,Delta_t, N_trajectories,cutoff_exponent)\n",
    "\n",
    "param_dict = Dict(\"type\"=>evol_type,\"N\"=>N, \"L\"=>L, \"omega\" =>ω,\"J\" =>J,\"gamma\"=>γ ,\"U\"=>U ,\"F\"=>F ,\n",
    "                \"maxt\"=>maxt, \"N_trajectories\"=>N_trajectories, \"cutoff\"=>cutoff, \"delta_t\" =>Delta_t,\n",
    "                \"time_per_trajctory\" =>timings)\n"
   ]
  },
  {
   "cell_type": "code",
   "execution_count": null,
   "id": "cdc19474",
   "metadata": {},
   "outputs": [],
   "source": [
    "# Save data\n",
    "\n",
    "fid = h5open(str_file_name, \"w\")\n",
    "    # write the metadata to its own group\n",
    "    create_group(fid, \"metadata\")\n",
    "    meta = fid[\"metadata\"]\n",
    "    for (k, v) in param_dict\n",
    "            meta[k] = v  # save each entry under its key\n",
    "    end\n",
    "    # save the results\n",
    "    res_g = create_group(fid, \"results\")\n",
    "    res_g[\"occupations\"] = mean_traj\n",
    "    res_g[\"entropy_first_to_half\"] = mean_entropy\n",
    "    res_g[\"bond_dimension\"] = mean_bond \n",
    "    # for the matrices we have to save them as a tensor where time is one of the indices\n",
    "    res_g[\"twobody_correlation\"] = cat(mean_corr...; dims=3)   \n",
    "\n",
    "    size1 = length(a_ensemble)\n",
    "    size2 = length(a_ensemble[1])\n",
    "    size3 = length(a_ensemble[1][1])\n",
    "\n",
    "    tn_ = Array{ComplexF64}(undef, size1, size2, size3);\n",
    "    for i in 1:size1, j in 1:size2, k in 1:size3\n",
    "        tn_[i, j, k] = a_ensemble[i][j][k]\n",
    "    end\n",
    "\n",
    "    res_g[\"annihilation_expectation\"] = tn_     \n",
    "\n",
    "close(fid)\n",
    "\n"
   ]
  },
  {
   "cell_type": "markdown",
   "id": "8b91f427",
   "metadata": {},
   "source": [
    "## Quick Analysis"
   ]
  },
  {
   "cell_type": "code",
   "execution_count": null,
   "id": "d44848b8",
   "metadata": {},
   "outputs": [],
   "source": [
    "f = Figure(size = (600, 400))\n",
    "ax1 = Axis(f[1, 1],xlabel=\"τ\", ylabel=\"MPS Occupations\")\n",
    "\n",
    "lines!(ax1, time_list, mean_traj[1,1:end])\n",
    "lines!(ax1, time_list, mean_traj[end,1:end])\n",
    "\n",
    "\n",
    "f"
   ]
  },
  {
   "cell_type": "code",
   "execution_count": null,
   "id": "23ce969f",
   "metadata": {},
   "outputs": [],
   "source": [
    "f= Figure(size = (800, 400))\n",
    "ax1 = Axis(f[1, 1], xlabel=\"τ\", ylabel=\"Entropy between 1 and L/2\")\n",
    "ax2 = Axis(f[1, 2], xlabel=\"τ\", ylabel=\"Bond dimension\")\n",
    "\n",
    "\n",
    "lines!(ax1, time_list, mean_entropy)\n",
    "lines!(ax2, time_list, mean_bond)\n",
    "\n",
    "f"
   ]
  },
  {
   "cell_type": "code",
   "execution_count": null,
   "id": "32ebb9a8",
   "metadata": {},
   "outputs": [],
   "source": [
    "f = Figure(size = (800, 400))\n",
    "ax1 = Axis(f[1, 1], xlabel=\"τ\", ylabel=\"Cavity Site\")\n",
    "ax2 = Axis(f[1, 2], xlabel=\"τ\", ylabel=\"Total occupation\")\n",
    "\n",
    "heatmap!(ax1, transpose(mean_traj))\n",
    "lines!(ax2, time_list, tot_oc)\n",
    "\n",
    "f "
   ]
  },
  {
   "cell_type": "code",
   "execution_count": null,
   "id": "1515699c",
   "metadata": {},
   "outputs": [],
   "source": [
    "# grab the value of each configuration at a given lattice site ffor lonf times\n",
    "a_first = []\n",
    "a_middle = []\n",
    "a_last = []\n",
    "\n",
    "for traj in 1:N_trajectories\n",
    "    for time_i in 0:10\n",
    "        push!(a_first, a_ensemble[traj][end-time_i][1])\n",
    "        push!(a_middle, a_ensemble[traj][end-time_i][round(Int64, L/2)])\n",
    "        push!(a_last, a_ensemble[traj][end-time_i][end])\n",
    "    end\n",
    "end\n",
    "\n",
    "scatter(real(a_middle), imag(a_middle))"
   ]
  },
  {
   "cell_type": "code",
   "execution_count": null,
   "id": "9ce12763",
   "metadata": {},
   "outputs": [],
   "source": [
    "# don0t forget the normalziattion factor\n",
    "tindex = 10\n",
    "Ct1 = mean_corr[tindex][1,1:end]/sqrt(mean_corr[tindex][1,1]*mean_corr[tindex][end,end])\n",
    "Ctf = mean_corr[end][1,1:end]/sqrt(mean_corr[end][1,1]*mean_corr[end][end,end])\n"
   ]
  },
  {
   "cell_type": "code",
   "execution_count": null,
   "id": "82dce17a",
   "metadata": {},
   "outputs": [],
   "source": [
    "f = Figure(size = (500, 400))\n",
    "ax1 = Axis(f[1, 1], xlabel=\"Lattice sites\", ylabel=\"Spatial Correlation\")\n",
    "\n",
    "lines!(abs.(Ct1))\n",
    "lines!(abs.(Ctf))\n",
    "\n",
    "f"
   ]
  },
  {
   "cell_type": "code",
   "execution_count": 65,
   "id": "463d7153",
   "metadata": {},
   "outputs": [],
   "source": []
  },
  {
   "cell_type": "code",
   "execution_count": 66,
   "id": "24ab5211",
   "metadata": {},
   "outputs": [],
   "source": []
  }
 ],
 "metadata": {
  "kernelspec": {
   "display_name": "Julia 1.11.4",
   "language": "julia",
   "name": "julia-1.11"
  },
  "language_info": {
   "file_extension": ".jl",
   "mimetype": "application/julia",
   "name": "julia",
   "version": "1.11.4"
  }
 },
 "nbformat": 4,
 "nbformat_minor": 5
}
