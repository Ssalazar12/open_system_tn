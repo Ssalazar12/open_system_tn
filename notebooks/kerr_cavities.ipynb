{
 "cells": [
  {
   "cell_type": "code",
   "execution_count": 1,
   "id": "773aa5ad",
   "metadata": {},
   "outputs": [],
   "source": [
    "using DrWatson\n",
    "\n",
    "@quickactivate"
   ]
  },
  {
   "cell_type": "code",
   "execution_count": 2,
   "id": "4037ba2c",
   "metadata": {},
   "outputs": [
    {
     "data": {
      "text/plain": [
       "\"using Pkg\\nPkg.add(\\\"HDF5\\\")\""
      ]
     },
     "metadata": {},
     "output_type": "display_data"
    }
   ],
   "source": [
    "# so we can keep adding packages to the venv\n",
    "\"\"\"using Pkg\n",
    "Pkg.add(\"HDF5\")\"\"\""
   ]
  },
  {
   "cell_type": "code",
   "execution_count": null,
   "id": "59140e34",
   "metadata": {},
   "outputs": [],
   "source": [
    "using HDF5\n",
    "using Printf\n",
    "using CairoMakie\n",
    "using SparseArrays\n",
    "using LinearAlgebra\n",
    "using Statistics\n",
    "using Distributed\n",
    "\"\"\"# optimization tools\n",
    "using Profile, ProfileSVG\n",
    "using JET\n",
    "using Cthulhu\"\"\""
   ]
  },
  {
   "cell_type": "code",
   "execution_count": null,
   "id": "4ad84d99",
   "metadata": {},
   "outputs": [],
   "source": [
    "using QuantumToolbox\n",
    "using ITensors, ITensorMPS\n",
    "\n",
    "\n",
    "\"\"\"# this is for compiling an itensor image so when we start it does not take ages to \n",
    "# comile the pakages. This only needs to be run onces per kernel or when you update the packages\n",
    "# to create the sys_itensor.so image\n",
    "\n",
    "using PackageCompiler\n",
    "\n",
    "ITensors.compile()\n",
    "\n",
    "# To load the image in a jupyter notebook:\n",
    "# using IJulia\n",
    "# installkernel(\"julia_ITensors\",\"--sysimage=~/.julia/sysimages/sys_itensors.so\")\n",
    "# To load the image in vscode just add this to the julia.additionalArgs setting in Settings.json\n",
    "# \"--sysimage ~/.julia/sysimages/sys_itensors.so\"\n",
    "\"\"\""
   ]
  },
  {
   "cell_type": "markdown",
   "id": "39ed84e7",
   "metadata": {},
   "source": [
    "# MPS Functions"
   ]
  },
  {
   "cell_type": "code",
   "execution_count": null,
   "id": "35869174",
   "metadata": {},
   "outputs": [],
   "source": [
    "function ITensors.op(::OpName\"Kerr\", ::SiteType\"Boson\", d::Int)\n",
    "    # Define a custom operator for the Kerr  using Quantum toolbox\n",
    "    a = destroy(d) \n",
    "    kerr_mat = a'*a'*a*a\n",
    "    \n",
    "  return to_dense(kerr_mat.data)\n",
    "end\n",
    "\n",
    "function entangement_S(ψ, b)\n",
    "    # b: index where we do the bipartition\n",
    "    psi = orthogonalize(ψ, b)\n",
    "    # do the SVM\n",
    "    U,S,V = svd(psi[b], (linkinds(psi, b-1)..., siteinds(psi, b)...))\n",
    "    SvN = 0.0\n",
    "    # Geth the schmidt coefficients\n",
    "    for n=1:dim(S, 1)\n",
    "        p = S[n,n]^2\n",
    "        SvN -= p * log(p)\n",
    "    end\n",
    "    return SvN\n",
    "end\n",
    "\n",
    "\n",
    "function ask_where(intervals)\n",
    "    # decide where to project the staet when there is a jump, each element in intervals is associated to\n",
    "    # a jump operator\n",
    "    r2 = rand()\n",
    "    dummy = 0\n",
    "    j = 1\n",
    "    found_site = -1\n",
    "    while dummy == 0\n",
    "        if r2<sum(intervals[1:j])\n",
    "            dummy = 1\n",
    "            found_site = j\n",
    "        else \n",
    "            j = j+1\n",
    "        end\n",
    "    end\n",
    "    return found_site\n",
    "end\n",
    "\n",
    "function build_TEBD(L, Ω, K ,J, Fd, Δτ, Nh, gammas::Vector{Float64})\n",
    "    #  build site indices\n",
    "    s = siteinds(\"Boson\", L; dim=Nh, conserve_qns=false)\n",
    "    # build the time evol gates for TEBD\n",
    "    gates = ITensor[]\n",
    "    # for the first site \n",
    "    s1 = s[1]\n",
    "    s2 = s[2]\n",
    "    h0 = -Ω*op(\"n\",s1)*op(\"Id\",s2) + 0.5*K*op(\"Kerr\",s1)*op(\"Id\",s2) + Fd*(op(\"adag\",s1) + op(\"a\",s1))*op(\"Id\",s2)\n",
    "    \n",
    "    heff = - 0.5*im*gammas[1]*op(\"Id\",s1)*op(\"n\",s2)\n",
    "    hj = h0 +  heff\n",
    "    Gj = exp(-im * Δτ/2 * hj)\n",
    "    push!(gates, Gj)\n",
    "\n",
    "    for j in 2:(L)\n",
    "        s1 = s[j]\n",
    "        s2 = s[j-1] \n",
    "\n",
    "        h0 = -Ω*op(\"n\",s1)*op(\"Id\",s2) + 0.5*K*op(\"Kerr\",s1)*op(\"Id\",s2) - J*(op(\"adag\",s1)*op(\"a\",s2) + op(\"adag\",s2)*op(\"a\",s1))\n",
    "\n",
    "        heff = - 0.5*im * gammas[j]*op(\"n\",s1)*op(\"Id\",s2)\n",
    "        hj = h0 +  heff\n",
    "        # troterized gate\n",
    "        Gj = exp(-im * Δτ/2 * hj)\n",
    "        push!(gates, Gj)\n",
    "    end\n",
    "\n",
    "    # The reverse gates for second order accuracy\n",
    "    append!(gates, reverse(gates))\n",
    "\n",
    "    return s, gates\n",
    "\n",
    "end\n",
    "\n",
    "\n",
    "function compute_trajectory_tebd(s::Vector{Index{Int64}}, gates::Vector{ITensor}, L::Int64, J::Float64,\n",
    "                             Δτ::Float64, ttotal::Float64, Nh::Int64, gammas::Vector{Float64}, cutoff::Float64)\n",
    "    # bettwe to put it in a function to avoid the global julia scope\n",
    "    \"\"\" \n",
    "    s = indices for truncation\n",
    "    Gj = TEBD circuit for one step\n",
    "    L = chain size\n",
    "    J = Hopping\n",
    "    Δτ = timestep\n",
    "    ttotal = final time\n",
    "    cutoff = truncation cutoff\n",
    "    Nh = local hilbert space dimension\n",
    "    gamma = dissipation\n",
    "    \"\"\"\n",
    "\n",
    "    n_tsteps = round(Int64, ttotal/Δτ)+1\n",
    "    occupations = Vector{Vector{Float64}}(undef, n_tsteps)\n",
    "    corr_matrices = Vector{Matrix{ComplexF64}}(undef, n_tsteps)\n",
    "    entropies = zeros(n_tsteps)\n",
    "    bond_dimensions = zeros(Int, n_tsteps)\n",
    "    # for the wigner distributions\n",
    "    a_operators = Vector{Vector{ComplexF64}}(undef, n_tsteps)\n",
    "\n",
    "    # put a particle in the first site\n",
    "    state_list = [\"0\" for n in 1:L]\n",
    "    state_list[1] = \"0\"\n",
    "    psi = MPS(s, state_list)\n",
    "    psi_cand = copy(psi) # candidate for new state}\n",
    "\n",
    "    dummy_counter = 1\n",
    "\n",
    "    for t in 0.0:Δτ:ttotal\n",
    "        # keep track of the occupations at each time step\n",
    "\n",
    "        occ = ITensorMPS.expect(psi,\"N\")        \n",
    "        # entanglement entropy between two equal sized parts of the chain\n",
    "        Svn = entangement_S(psi, round(Int64, L/2))\n",
    "        occupations[dummy_counter] = occ\n",
    "        corr_matrices[dummy_counter] = correlation_matrix(psi,\"adag\",\"a\")\n",
    "        entropies[dummy_counter] = Svn\n",
    "        bond_dimensions[dummy_counter] = ITensorMPS.maxlinkdim(psi)\n",
    "        a_operators[dummy_counter] = ITensorMPS.expect(psi,\"a\") \n",
    "\n",
    "        t≈ttotal && break\n",
    "\n",
    "        # metropolis step\n",
    "        psi_cand = apply(gates, psi; cutoff) # candidate for new state}\n",
    "        norm = inner(psi_cand',psi_cand)\n",
    "        proba_act = real(1 - norm)\n",
    "        r1 = rand()\n",
    "        if r1 > proba_act\n",
    "            # here no jump so we accept the state\n",
    "            psi = psi_cand/norm\n",
    "        else\n",
    "            # jump, so choose which state we project to\n",
    "            δp_list = [gammas[i]*ITensorMPS.expect(psi,\"N\",sites=i) for i in 1:L]  \n",
    "            normalize!(δp_list)\n",
    "            jump_site = ask_where(δp_list)\n",
    "            jump_op = sqrt(gammas[jump_site])*op(\"a\",s[jump_site]);\n",
    "            psi = apply(jump_op , psi)\n",
    "            normalize!(psi)\n",
    "        end\n",
    "\n",
    "        dummy_counter+=1\n",
    "    end\n",
    "\n",
    "    return occupations, entropies, bond_dimensions, corr_matrices, a_operators\n",
    "end\n",
    "\n",
    "function compute_trajectory_tdvp(s::Vector{Index{Int64}}, gates, L::Int64, J::Float64,\n",
    "                             Δτ::Float64, ttotal::Float64, Nh::Int64, gammas::Vector{Float64}, cutoff::Float64)\n",
    "    # bettwe to put it in a function to avoid the global julia scope\n",
    "    \"\"\" \n",
    "    s = indices for truncation\n",
    "    Gj = TEBD circuit for one step\n",
    "    L = chain size\n",
    "    J = Hopping\n",
    "    Δτ = timestep\n",
    "    ttotal = final time\n",
    "    cutoff = truncation cutoff\n",
    "    Nh = local hilbert space dimension\n",
    "    gamma = dissipation\n",
    "    \"\"\"\n",
    "\n",
    "    n_tsteps = round(Int64, ttotal/Δτ)+1\n",
    "    occupations = Vector{Vector{Float64}}(undef, n_tsteps)\n",
    "    corr_matrices = Vector{Matrix{ComplexF64}}(undef, n_tsteps)\n",
    "    entropies = zeros(n_tsteps)\n",
    "    bond_dimensions = zeros(Int, n_tsteps)\n",
    "    # for the wigner distributions\n",
    "    a_operators = Vector{Vector{ComplexF64}}(undef, n_tsteps)\n",
    "\n",
    "    # put a particle in the first site\n",
    "    state_list = [\"0\" for n in 1:L]\n",
    "    state_list[1] = \"0\"\n",
    "    psi = MPS(s, state_list)\n",
    "    psi_cand = copy(psi) # candidate for new state}\n",
    "\n",
    "    dummy_counter = 1\n",
    "\n",
    "    for t in 0.0:Δτ:ttotal\n",
    "        # keep track of the occupations at each time step\n",
    "\n",
    "        occ = ITensorMPS.expect(psi,\"N\")        \n",
    "        # entanglement entropy between two equal sized parts of the chain\n",
    "        Svn = entangement_S(psi, round(Int64, L/2))\n",
    "        occupations[dummy_counter] = occ\n",
    "        corr_matrices[dummy_counter] = correlation_matrix(psi,\"adag\",\"a\")\n",
    "        entropies[dummy_counter] = Svn\n",
    "        bond_dimensions[dummy_counter] = ITensorMPS.maxlinkdim(psi)\n",
    "        a_operators[dummy_counter] = ITensorMPS.expect(psi,\"a\") \n",
    "\n",
    "        t≈ttotal && break\n",
    "\n",
    "        # metropolis step tdvp(H,tmax,psi0,time_step=0.01, cutoff=cutoff, normalize=true, reverse_step=false);\n",
    "        psi_cand = tdvp(gates,Δτ,psi,time_step=Δτ, nsweeps=1 ,cutoff=cutoff, normalize=false, reverse_step=false)\n",
    "        norm = inner(psi_cand',psi_cand)\n",
    "        proba_act = real(1 - norm)\n",
    "        r1 = rand()\n",
    "\n",
    "        if r1 > proba_act\n",
    "            # here no jump so we accept the state\n",
    "            psi = psi_cand/norm\n",
    "        else\n",
    "            # jump, so choose which state we project to\n",
    "            δp_list = [gammas[i]*ITensorMPS.expect(psi,\"N\",sites=i) for i in 1:L]  \n",
    "            normalize!(δp_list)\n",
    "            jump_site = ask_where(δp_list)\n",
    "            jump_op = sqrt(gammas[jump_site])*op(\"a\",s[jump_site]);\n",
    "            psi = apply(jump_op , psi)\n",
    "            normalize!(psi)\n",
    "        end\n",
    "\n",
    "        dummy_counter+=1\n",
    "    end\n",
    "\n",
    "    return occupations, entropies, bond_dimensions, corr_matrices, a_operators\n",
    "end\n",
    "\n",
    "function build_tdvp(L, Ω, K ,J, Fd, Nh, gammas::Vector{Float64})\n",
    "\n",
    "    s = siteinds(\"Boson\", L; dim=N, conserve_qns=false)\n",
    "    # build the time evol gates for TEBD\n",
    "    gates = ITensor[]\n",
    "\n",
    "    h0 = OpSum()\n",
    "    heff = OpSum()\n",
    "\n",
    "    h0 += -Ω, \"n\", 1 \n",
    "    h0 += 0.5*K, \"Kerr\", 1 \n",
    "    h0 += Fd, \"adag\", 1 \n",
    "    h0 += Fd, \"a\", 1 \n",
    "    heff += - 0.5*im*gammas[1], \"n\", 1\n",
    "    for j in 2:L\n",
    "        # Bare Hamiltonian\n",
    "        h0 += -Ω, \"n\", j \n",
    "        h0 += 0.5*K, \"Kerr\", j \n",
    "        h0 += Fd, \"adag\", j \n",
    "        h0 += Fd,\"a\", j \n",
    "        h0 += -J , \"adag\", j, \"a\", j-1\n",
    "        h0 += -J, \"adag\", j-1 , \"a\", j\n",
    "        # effective Hamiltonian\n",
    "        heff += - 0.5*im*gammas[1], \"n\", j\n",
    "\n",
    "    end\n",
    "\n",
    "    hj = h0 +  heff\n",
    "        # The reverse gates for second order accuracy\n",
    "    return s, MPO(hj,s)\n",
    "end\n",
    "\n",
    "\"\"\"\n",
    "let\n",
    "    s_indices, gates = build_tdvp(L, ω, U, J, F, N, γ_list)\n",
    "    @time occupations, Svns, bond_dim, correlation_matrix, a_operators = compute_trajectory_tdvp(s_indices, gates, L, J,tlist[2]-tlist[1], 10.0, N, γ_list,1*10^(-18))\n",
    "\n",
    "end\n",
    "\"\"\"\n",
    "#\n",
    "\n"
   ]
  },
  {
   "cell_type": "markdown",
   "id": "9c6695a1",
   "metadata": {},
   "source": [
    "# Main"
   ]
  },
  {
   "cell_type": "code",
   "execution_count": null,
   "id": "d07c222b",
   "metadata": {},
   "outputs": [],
   "source": [
    "N = 10 # local hilbert space dimension\n",
    "L = 5 # size of the chain\n",
    "ω = 2.5 # frequency of the harmonic oscillator\n",
    "J = 2.0 # hopping\n",
    "γ = 1.0 # damping rate\n",
    "γ_list = γ.*ones(L)\n",
    "U = 0.1 # Kerr non-linearity\n",
    "F = 1.5 # Pump strength\n",
    "maxt = 15.0 # maximum time\n",
    "cutoff_exponent = -20 # -18 -20\n",
    "cutoff = 10.0^cutoff_exponent\n",
    "N_trajectories = 100\n",
    "Delta_t = 0.2# 0.06 0.1 0.2\n",
    "time_list = 0.0:Delta_t:maxt\n",
    "γ_list = γ.*ones(L)\n",
    "evol_type = \"TEBD\" # TDVP\n",
    "Strided.disable_threads()"
   ]
  },
  {
   "cell_type": "code",
   "execution_count": null,
   "id": "4562e428",
   "metadata": {},
   "outputs": [],
   "source": [
    "\n",
    "let\n",
    "    s_indices, gates = build_TEBD(L, ω, U, J, F, Delta_t, N, γ_list)\n",
    "    @time occupations, Svns, bond_dim, correlation_matrix, a_operators = compute_trajectory_tebd(s_indices, gates, L, J,    Delta_t, maxt, N, γ_list,cutoff)\n",
    "    #println(typeof(a_operators))\n",
    "    println(a_operators)\n",
    "end\n"
   ]
  },
  {
   "cell_type": "code",
   "execution_count": 23,
   "id": "1346a6d9",
   "metadata": {},
   "outputs": [
    {
     "name": "stdout",
     "output_type": "stream",
     "text": [
      "4\n"
     ]
    }
   ],
   "source": [
    "println(Threads.nthreads())\n"
   ]
  },
  {
   "cell_type": "code",
   "execution_count": null,
   "id": "68b2bf22",
   "metadata": {},
   "outputs": [
    {
     "name": "stdout",
     "output_type": "stream",
     "text": [
      "Doing TEBD...\n"
     ]
    }
   ],
   "source": [
    "\n",
    "occupation_ensemble = Vector{Matrix{Float64}}(undef, N_trajectories)\n",
    "correlation_ensemble = Vector{Vector{Matrix{ComplexF64}}}(undef, N_trajectories)\n",
    "entropy_ensemble = zeros(N_trajectories, length(time_list))\n",
    "b_dims_ensemble = zeros(N_trajectories, length(time_list))\n",
    "a_ensemble = Vector{Vector{Vector{ComplexF64}}}(undef, N_trajectories)\n",
    "println(\"Doing TEBD...\")\n",
    "s_indices, gates = build_TEBD(L, ω, U, J, F, Delta_t, N, γ_list)\n",
    "\n",
    "Threads.@threads for traj in 1:N_trajectories\n",
    "    occupations, Svns, bond_dim, correlation_matrix, a_operators = compute_trajectory_tebd(s_indices, gates, L, J,\n",
    "                                                            Delta_t, maxt, N, γ_list, cutoff);\n",
    "    occupations = reduce(hcat, occupations);\n",
    "    occupation_ensemble[traj] = occupations\n",
    "    entropy_ensemble[traj, 1:end] = Svns\n",
    "    b_dims_ensemble[traj, 1:end] = bond_dim\n",
    "    correlation_ensemble[traj] = correlation_matrix\n",
    "    a_ensemble[traj] = a_operators\n",
    "end\n",
    "    \n",
    "\"\"\"else\n",
    "    println(\"Doing TDVP...\")\n",
    "    s_indices, gates = build_tdvp(L, ω, U, J, F, N, γ_list)\n",
    "    Threads.@threads for traj in 1:N_trajectories\n",
    "    occupations, Svns, bond_dim, correlation_matrix, a_operators = compute_trajectory_tdvp(s_indices, gates, L, J,Delta_t, maxt, N, γ_list,cutoff)\n",
    "\n",
    "    occupations = reduce(hcat, occupations);\n",
    "    occupation_ensemble[traj] = occupations\n",
    "    entropy_ensemble[traj, 1:end] = Svns\n",
    "    b_dims_ensemble[traj, 1:end] = bond_dim\n",
    "    correlation_ensemble[traj] = correlation_matrix\n",
    "    a_ensemble[traj] = a_operators\n",
    "    end\"\"\"\n",
    "    \n"
   ]
  },
  {
   "cell_type": "code",
   "execution_count": 9,
   "id": "446815c9",
   "metadata": {},
   "outputs": [
    {
     "ename": "UndefRefError",
     "evalue": "UndefRefError: access to undefined reference",
     "output_type": "error",
     "traceback": [
      "UndefRefError: access to undefined reference\n",
      "\n",
      "Stacktrace:\n",
      "  [1] getindex\n",
      "    @ ./essentials.jl:917 [inlined]\n",
      "  [2] macro expansion\n",
      "    @ ./reduce.jl:264 [inlined]\n",
      "  [3] macro expansion\n",
      "    @ ./simdloop.jl:77 [inlined]\n",
      "  [4] mapreduce_impl(f::Statistics.var\"#4#6\"{typeof(identity), Matrix{Float64}}, op::typeof(Base.add_sum), A::Vector{Matrix{Float64}}, ifirst::Int64, ilast::Int64, blksize::Int64)\n",
      "    @ Base ./reduce.jl:263\n",
      "  [5] mapreduce_impl\n",
      "    @ ./reduce.jl:277 [inlined]\n",
      "  [6] _mapreduce(f::Statistics.var\"#4#6\"{typeof(identity), Matrix{Float64}}, op::typeof(Base.add_sum), ::IndexLinear, A::Vector{Matrix{Float64}})\n",
      "    @ Base ./reduce.jl:444\n",
      "  [7] _mapreduce_dim\n",
      "    @ ./reducedim.jl:337 [inlined]\n",
      "  [8] mapreduce\n",
      "    @ ./reducedim.jl:329 [inlined]\n",
      "  [9] _sum\n",
      "    @ ./reducedim.jl:987 [inlined]\n",
      " [10] sum\n",
      "    @ ./reducedim.jl:983 [inlined]\n",
      " [11] _mean(f::typeof(identity), A::Vector{Matrix{Float64}}, dims::Colon)\n",
      "    @ Statistics ~/.julia/packages/Statistics/gbcbG/src/Statistics.jl:191\n",
      " [12] mean(A::Vector{Matrix{Float64}})\n",
      "    @ Statistics ~/.julia/packages/Statistics/gbcbG/src/Statistics.jl:178\n",
      " [13] top-level scope\n",
      "    @ ~/Desktop/Uni/PhD/open_q_systems/open_system_tn/notebooks/jl_notebook_cell_df34fa98e69747e1a8f8a730347b8e2f_X13sZmlsZQ==.jl:2"
     ]
    }
   ],
   "source": [
    "\n",
    "mean_traj = mean(occupation_ensemble)\n",
    "mean_entropy = mean(entropy_ensemble,dims=1)[1,1:end]\n",
    "mean_bond = mean(b_dims_ensemble,dims=1)[1,1:end]\n",
    "tot_oc = sum(mean_traj, dims=1)[1:end]\n",
    "mean_corr = mean(correlation_ensemble)\n",
    "mean_a = mean(a_ensemble);\n"
   ]
  },
  {
   "cell_type": "markdown",
   "id": "48a86636",
   "metadata": {},
   "source": [
    "## Save data"
   ]
  },
  {
   "cell_type": "code",
   "execution_count": 10,
   "id": "ec5efc76",
   "metadata": {},
   "outputs": [
    {
     "data": {
      "text/plain": [
       "Dict{String, Any} with 12 entries:\n",
       "  \"N_trajectories\" => 100\n",
       "  \"L\"              => 5\n",
       "  \"cutoff\"         => 1.0e-20\n",
       "  \"omega\"          => 2.5\n",
       "  \"N\"              => 10\n",
       "  \"delta_t\"        => 0.2\n",
       "  \"maxt\"           => 15.0\n",
       "  \"J\"              => 2.0\n",
       "  \"U\"              => 0.1\n",
       "  \"gamma\"          => 1.0\n",
       "  \"type\"           => \"TEBD\"\n",
       "  \"F\"              => 1.5"
      ]
     },
     "metadata": {},
     "output_type": "display_data"
    }
   ],
   "source": [
    "str_file_name = @sprintf(\"../data/sims/benchmark/%s_N%i_L%i_om%.2f_J%.2f_gamma%.2f_kerr%.2f_drive%.2f_maxt%.2f_deltat%.2f_traj%i_cutexp%i.h5\", evol_type,N,L,ω,J,γ,U,F,maxt,Delta_t, N_trajectories,cutoff_exponent)\n",
    "\n",
    "param_dict = Dict(\"type\"=>evol_type,\"N\"=>N, \"L\"=>L, \"omega\" =>ω,\"J\" =>J,\"gamma\"=>γ ,\"U\"=>U ,\"F\"=>F ,\n",
    "                \"maxt\"=>maxt, \"N_trajectories\"=>N_trajectories, \"cutoff\"=>cutoff, \"delta_t\" =>Delta_t)\n"
   ]
  },
  {
   "cell_type": "code",
   "execution_count": 11,
   "id": "cdc19474",
   "metadata": {},
   "outputs": [
    {
     "ename": "UndefVarError",
     "evalue": "UndefVarError: `mean_traj` not defined in `Main`\nSuggestion: check for spelling errors or missing imports.",
     "output_type": "error",
     "traceback": [
      "UndefVarError: `mean_traj` not defined in `Main`\n",
      "Suggestion: check for spelling errors or missing imports.\n",
      "\n",
      "Stacktrace:\n",
      " [1] top-level scope\n",
      "   @ ~/Desktop/Uni/PhD/open_q_systems/open_system_tn/notebooks/jl_notebook_cell_df34fa98e69747e1a8f8a730347b8e2f_X16sZmlsZQ==.jl:12"
     ]
    }
   ],
   "source": [
    "# Save data\n",
    "\n",
    "fid = h5open(str_file_name, \"w\")\n",
    "    # write the metadata to its own group\n",
    "    create_group(fid, \"metadata\")\n",
    "    meta = fid[\"metadata\"]\n",
    "    for (k, v) in param_dict\n",
    "            meta[k] = v  # save each entry under its key\n",
    "    end\n",
    "    # save the results\n",
    "    res_g = create_group(fid, \"results\")\n",
    "    res_g[\"occupations\"] = mean_traj\n",
    "    res_g[\"entropy_first_to_half\"] = mean_entropy\n",
    "    res_g[\"bond_dimension\"] = mean_bond \n",
    "    # for the matrices we have to save them as a tensor where time is one of the indices\n",
    "    res_g[\"twobody_correlation\"] = cat(mean_corr...; dims=3)   \n",
    "\n",
    "    size1 = length(a_ensemble)\n",
    "    size2 = length(a_ensemble[1])\n",
    "    size3 = length(a_ensemble[1][1])\n",
    "\n",
    "    tn_ = Array{ComplexF64}(undef, size1, size2, size3);\n",
    "    for i in 1:size1, j in 1:size2, k in 1:size3\n",
    "        tn_[i, j, k] = a_ensemble[i][j][k]\n",
    "    end\n",
    "\n",
    "    res_g[\"annihilation_expectation\"] = tn_     \n",
    "\n",
    "close(fid)\n",
    "\n"
   ]
  },
  {
   "cell_type": "markdown",
   "id": "8b91f427",
   "metadata": {},
   "source": [
    "## Quick Analysis"
   ]
  },
  {
   "cell_type": "code",
   "execution_count": 12,
   "id": "d44848b8",
   "metadata": {},
   "outputs": [
    {
     "ename": "UndefVarError",
     "evalue": "UndefVarError: `mean_traj` not defined in `Main`\nSuggestion: check for spelling errors or missing imports.",
     "output_type": "error",
     "traceback": [
      "UndefVarError: `mean_traj` not defined in `Main`\n",
      "Suggestion: check for spelling errors or missing imports.\n",
      "\n",
      "Stacktrace:\n",
      " [1] top-level scope\n",
      "   @ ~/Desktop/Uni/PhD/open_q_systems/open_system_tn/notebooks/jl_notebook_cell_df34fa98e69747e1a8f8a730347b8e2f_X21sZmlsZQ==.jl:4"
     ]
    }
   ],
   "source": [
    "f = Figure(size = (600, 400))\n",
    "ax1 = Axis(f[1, 1],xlabel=\"τ\", ylabel=\"MPS Occupations\")\n",
    "\n",
    "lines!(ax1, time_list, mean_traj[1,1:end])\n",
    "lines!(ax1, time_list, mean_traj[end,1:end])\n",
    "\n",
    "\n",
    "f"
   ]
  },
  {
   "cell_type": "code",
   "execution_count": 13,
   "id": "23ce969f",
   "metadata": {},
   "outputs": [
    {
     "ename": "UndefVarError",
     "evalue": "UndefVarError: `mean_entropy` not defined in `Main`\nSuggestion: check for spelling errors or missing imports.",
     "output_type": "error",
     "traceback": [
      "UndefVarError: `mean_entropy` not defined in `Main`\n",
      "Suggestion: check for spelling errors or missing imports.\n",
      "\n",
      "Stacktrace:\n",
      " [1] top-level scope\n",
      "   @ ~/Desktop/Uni/PhD/open_q_systems/open_system_tn/notebooks/jl_notebook_cell_df34fa98e69747e1a8f8a730347b8e2f_X22sZmlsZQ==.jl:6"
     ]
    }
   ],
   "source": [
    "f= Figure(size = (800, 400))\n",
    "ax1 = Axis(f[1, 1], xlabel=\"τ\", ylabel=\"Entropy between 1 and L/2\")\n",
    "ax2 = Axis(f[1, 2], xlabel=\"τ\", ylabel=\"Bond dimension\")\n",
    "\n",
    "\n",
    "lines!(ax1, time_list, mean_entropy)\n",
    "lines!(ax2, time_list, mean_bond)\n",
    "\n",
    "f"
   ]
  },
  {
   "cell_type": "code",
   "execution_count": 14,
   "id": "32ebb9a8",
   "metadata": {},
   "outputs": [
    {
     "ename": "UndefVarError",
     "evalue": "UndefVarError: `mean_traj` not defined in `Main`\nSuggestion: check for spelling errors or missing imports.",
     "output_type": "error",
     "traceback": [
      "UndefVarError: `mean_traj` not defined in `Main`\n",
      "Suggestion: check for spelling errors or missing imports.\n",
      "\n",
      "Stacktrace:\n",
      " [1] top-level scope\n",
      "   @ ~/Desktop/Uni/PhD/open_q_systems/open_system_tn/notebooks/jl_notebook_cell_df34fa98e69747e1a8f8a730347b8e2f_X23sZmlsZQ==.jl:5"
     ]
    }
   ],
   "source": [
    "f = Figure(size = (800, 400))\n",
    "ax1 = Axis(f[1, 1], xlabel=\"τ\", ylabel=\"Cavity Site\")\n",
    "ax2 = Axis(f[1, 2], xlabel=\"τ\", ylabel=\"Total occupation\")\n",
    "\n",
    "heatmap!(ax1, transpose(mean_traj))\n",
    "lines!(ax2, time_list, tot_oc)\n",
    "\n",
    "f "
   ]
  },
  {
   "cell_type": "code",
   "execution_count": 15,
   "id": "1515699c",
   "metadata": {},
   "outputs": [
    {
     "ename": "UndefRefError",
     "evalue": "UndefRefError: access to undefined reference",
     "output_type": "error",
     "traceback": [
      "UndefRefError: access to undefined reference\n",
      "\n",
      "Stacktrace:\n",
      " [1] getindex(A::Vector{Vector{Vector{ComplexF64}}}, i::Int64)\n",
      "   @ Base ./essentials.jl:917\n",
      " [2] top-level scope\n",
      "   @ ~/Desktop/Uni/PhD/open_q_systems/open_system_tn/notebooks/jl_notebook_cell_df34fa98e69747e1a8f8a730347b8e2f_X24sZmlsZQ==.jl:8"
     ]
    }
   ],
   "source": [
    "# grab the value of each configuration at a given lattice site ffor lonf times\n",
    "a_first = []\n",
    "a_middle = []\n",
    "a_last = []\n",
    "\n",
    "for traj in 1:N_trajectories\n",
    "    for time_i in 0:10\n",
    "        push!(a_first, a_ensemble[traj][end-time_i][1])\n",
    "        push!(a_middle, a_ensemble[traj][end-time_i][round(Int64, L/2)])\n",
    "        push!(a_last, a_ensemble[traj][end-time_i][end])\n",
    "    end\n",
    "end\n",
    "\n",
    "scatter(real(a_middle), imag(a_middle))"
   ]
  },
  {
   "cell_type": "code",
   "execution_count": 16,
   "id": "9ce12763",
   "metadata": {},
   "outputs": [
    {
     "ename": "UndefVarError",
     "evalue": "UndefVarError: `mean_corr` not defined in `Main`\nSuggestion: check for spelling errors or missing imports.",
     "output_type": "error",
     "traceback": [
      "UndefVarError: `mean_corr` not defined in `Main`\n",
      "Suggestion: check for spelling errors or missing imports.\n",
      "\n",
      "Stacktrace:\n",
      " [1] top-level scope\n",
      "   @ ~/Desktop/Uni/PhD/open_q_systems/open_system_tn/notebooks/jl_notebook_cell_df34fa98e69747e1a8f8a730347b8e2f_X25sZmlsZQ==.jl:3"
     ]
    }
   ],
   "source": [
    "# don0t forget the normalziattion factor\n",
    "tindex = 10\n",
    "Ct1 = mean_corr[tindex][1,1:end]/sqrt(mean_corr[tindex][1,1]*mean_corr[tindex][end,end])\n",
    "Ctf = mean_corr[end][1,1:end]/sqrt(mean_corr[end][1,1]*mean_corr[end][end,end])\n"
   ]
  },
  {
   "cell_type": "code",
   "execution_count": 17,
   "id": "82dce17a",
   "metadata": {},
   "outputs": [
    {
     "ename": "UndefVarError",
     "evalue": "UndefVarError: `Ct1` not defined in `Main`\nSuggestion: check for spelling errors or missing imports.",
     "output_type": "error",
     "traceback": [
      "UndefVarError: `Ct1` not defined in `Main`\n",
      "Suggestion: check for spelling errors or missing imports.\n",
      "\n",
      "Stacktrace:\n",
      " [1] top-level scope\n",
      "   @ ~/Desktop/Uni/PhD/open_q_systems/open_system_tn/notebooks/jl_notebook_cell_df34fa98e69747e1a8f8a730347b8e2f_X26sZmlsZQ==.jl:4"
     ]
    }
   ],
   "source": [
    "f = Figure(size = (500, 400))\n",
    "ax1 = Axis(f[1, 1], xlabel=\"Lattice sites\", ylabel=\"Spatial Correlation\")\n",
    "\n",
    "lines!(abs.(Ct1))\n",
    "lines!(abs.(Ctf))\n",
    "\n",
    "f"
   ]
  },
  {
   "cell_type": "code",
   "execution_count": 18,
   "id": "463d7153",
   "metadata": {},
   "outputs": [],
   "source": []
  },
  {
   "cell_type": "code",
   "execution_count": 19,
   "id": "24ab5211",
   "metadata": {},
   "outputs": [],
   "source": []
  }
 ],
 "metadata": {
  "kernelspec": {
   "display_name": "Julia 1.11.4",
   "language": "julia",
   "name": "julia-1.11"
  },
  "language_info": {
   "file_extension": ".jl",
   "mimetype": "application/julia",
   "name": "julia",
   "version": "1.11.4"
  }
 },
 "nbformat": 4,
 "nbformat_minor": 5
}
