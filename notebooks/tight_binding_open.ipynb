{
 "cells": [
  {
   "cell_type": "code",
   "execution_count": 1,
   "id": "e3f76c4a",
   "metadata": {},
   "outputs": [
    {
     "name": "stderr",
     "output_type": "stream",
     "text": [
      "\u001b[32m\u001b[1m  Activating\u001b[22m\u001b[39m project at `~/Desktop/Uni/PhD/open_q_systems/open_system_tn`\n"
     ]
    }
   ],
   "source": [
    "using DrWatson\n",
    "\n",
    "@quickactivate\n"
   ]
  },
  {
   "cell_type": "code",
   "execution_count": 4,
   "id": "fe2c73e3",
   "metadata": {},
   "outputs": [
    {
     "name": "stderr",
     "output_type": "stream",
     "text": [
      "\u001b[32m\u001b[1m   Resolving\u001b[22m\u001b[39m package versions...\n",
      "\u001b[32m\u001b[1m   Installed\u001b[22m\u001b[39m ITensorMPS ─ v0.3.18\n",
      "\u001b[32m\u001b[1m    Updating\u001b[22m\u001b[39m `~/Desktop/Uni/PhD/open_q_systems/open_system_tn/Project.toml`\n",
      "  \u001b[90m[0d1a4710] \u001b[39m\u001b[92m+ ITensorMPS v0.3.18\u001b[39m\n",
      "\u001b[32m\u001b[1m    Updating\u001b[22m\u001b[39m `~/Desktop/Uni/PhD/open_q_systems/open_system_tn/Manifest.toml`\n",
      "  \u001b[90m[0d1a4710] \u001b[39m\u001b[92m+ ITensorMPS v0.3.18\u001b[39m\n",
      "  \u001b[90m[0b1a1467] \u001b[39m\u001b[92m+ KrylovKit v0.9.5\u001b[39m\n",
      "\u001b[92m\u001b[1mPrecompiling\u001b[22m\u001b[39m project...\n",
      "    534.9 ms\u001b[32m  ✓ \u001b[39m\u001b[90mKrylovKit → KrylovKitChainRulesCoreExt\u001b[39m\n",
      "   1389.4 ms\u001b[32m  ✓ \u001b[39m\u001b[90mLinearSolve → LinearSolveKrylovKitExt\u001b[39m\n",
      "   4154.8 ms\u001b[32m  ✓ \u001b[39mITensorMPS\n",
      "   2147.0 ms\u001b[32m  ✓ \u001b[39mITensorMPS → ITensorMPSChainRulesCoreExt\n",
      "  4 dependencies successfully precompiled in 8 seconds. 316 already precompiled.\n"
     ]
    }
   ],
   "source": [
    "using Pkg\n",
    "\n",
    "Pkg.add(\"ITensorMPS\")"
   ]
  },
  {
   "cell_type": "code",
   "execution_count": null,
   "id": "8d4e8d82",
   "metadata": {},
   "outputs": [],
   "source": []
  }
 ],
 "metadata": {
  "kernelspec": {
   "display_name": "4 threads 1.11.4",
   "language": "julia",
   "name": "4-threads-1.11"
  },
  "language_info": {
   "file_extension": ".jl",
   "mimetype": "application/julia",
   "name": "julia",
   "version": "1.11.4"
  }
 },
 "nbformat": 4,
 "nbformat_minor": 5
}
